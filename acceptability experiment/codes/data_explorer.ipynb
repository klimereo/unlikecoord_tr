{
  "cells": [
    {
      "cell_type": "markdown",
      "id": "cc7ba0c4",
      "metadata": {
        "id": "cc7ba0c4"
      },
      "source": [
        "# Importing Libraries and Data"
      ]
    },
    {
      "cell_type": "code",
      "execution_count": null,
      "id": "2de10c02",
      "metadata": {
        "id": "2de10c02"
      },
      "outputs": [],
      "source": [
        "import pandas as pd\n",
        "import matplotlib.pyplot as plt\n",
        "import numpy as np\n",
        "from scipy import stats"
      ]
    },
    {
      "cell_type": "code",
      "execution_count": null,
      "id": "ea659f23",
      "metadata": {
        "id": "ea659f23"
      },
      "outputs": [],
      "source": [
        "anket_1 = pd.read_csv('Anket1_preprocessed.csv')\n",
        "anket_2 = pd.read_csv('Anket2_preprocessed.csv')\n",
        "anket_3 = pd.read_csv('Anket3_preprocessed.csv')\n",
        "anket_4 = pd.read_csv('Anket4_preprocessed.csv')"
      ]
    },
    {
      "cell_type": "markdown",
      "id": "a51de6ac",
      "metadata": {
        "id": "a51de6ac"
      },
      "source": [
        "## Data extracting function"
      ]
    },
    {
      "cell_type": "code",
      "execution_count": null,
      "id": "474d4b92",
      "metadata": {
        "id": "474d4b92"
      },
      "outputs": [],
      "source": [
        "def extract_values(dataframe, condition):\n",
        "    values_list = []\n",
        "    for index, row in dataframe.iterrows():\n",
        "        for col in dataframe.columns:\n",
        "            if condition in col:\n",
        "                if col.startswith(condition):\n",
        "                    values_list.append(row[col])\n",
        "    return values_list"
      ]
    },
    {
      "cell_type": "markdown",
      "id": "d21ab4e0",
      "metadata": {
        "id": "d21ab4e0"
      },
      "source": [
        "# Fillers"
      ]
    },
    {
      "cell_type": "markdown",
      "id": "72535d40",
      "metadata": {
        "id": "72535d40"
      },
      "source": [
        "## Grammatical Fillers (Score-based)"
      ]
    },
    {
      "cell_type": "code",
      "execution_count": null,
      "id": "78ebb008",
      "metadata": {
        "id": "78ebb008"
      },
      "outputs": [],
      "source": [
        "anket1_ctgram_scores = extract_values(anket_1, \"CTGRAM\")\n",
        "anket2_ctgram_scores = extract_values(anket_2, \"CTGRAM\")\n",
        "anket3_ctgram_scores = extract_values(anket_3, \"CTGRAM\")\n",
        "anket4_ctgram_scores = extract_values(anket_4, \"CTGRAM\")"
      ]
    },
    {
      "cell_type": "code",
      "execution_count": null,
      "id": "9398b7eb",
      "metadata": {
        "id": "9398b7eb"
      },
      "outputs": [],
      "source": [
        "total_ctgram_scores = anket1_ctgram_scores + anket2_ctgram_scores + anket3_ctgram_scores + anket4_ctgram_scores\n",
        "total_ctgram_scores = pd.Series(total_ctgram_scores)"
      ]
    },
    {
      "cell_type": "code",
      "execution_count": null,
      "id": "b4841c5a",
      "metadata": {
        "scrolled": true,
        "colab": {
          "base_uri": "https://localhost:8080/"
        },
        "id": "b4841c5a",
        "outputId": "1093a698-8ab7-4f52-8c54-4ccf04eff890"
      },
      "outputs": [
        {
          "output_type": "execute_result",
          "data": {
            "text/plain": [
              "count    715.000000\n",
              "mean       1.860140\n",
              "std        1.826514\n",
              "min       -3.000000\n",
              "25%        1.000000\n",
              "50%        3.000000\n",
              "75%        3.000000\n",
              "max        3.000000\n",
              "dtype: float64"
            ]
          },
          "metadata": {},
          "execution_count": 7
        }
      ],
      "source": [
        "total_ctgram_scores.describe()"
      ]
    },
    {
      "cell_type": "code",
      "execution_count": null,
      "id": "28b8bc28",
      "metadata": {
        "scrolled": true,
        "colab": {
          "base_uri": "https://localhost:8080/",
          "height": 489
        },
        "id": "28b8bc28",
        "outputId": "c3283de3-f819-4875-86c4-f9ac05133008"
      },
      "outputs": [
        {
          "output_type": "execute_result",
          "data": {
            "text/plain": [
              "Text(0.5, 1.0, 'Distribution of Values for Grammatical Filler Sentences')"
            ]
          },
          "metadata": {},
          "execution_count": 8
        },
        {
          "output_type": "display_data",
          "data": {
            "text/plain": [
              "<Figure size 640x480 with 1 Axes>"
            ],
            "image/png": "[encoded data removed]"
          },
          "metadata": {}
        }
      ],
      "source": [
        "plt.hist(total_ctgram_scores)\n",
        "\n",
        "# add labels and title\n",
        "plt.xlim(-3, 3)\n",
        "plt.xlabel('Value')\n",
        "plt.ylabel('Frequency')\n",
        "plt.title('Distribution of Values for Grammatical Filler Sentences')"
      ]
    },
    {
      "cell_type": "markdown",
      "id": "7206ea40",
      "metadata": {
        "id": "7206ea40"
      },
      "source": [
        "## Ungrammatical Fillers (Score-based)"
      ]
    },
    {
      "cell_type": "code",
      "execution_count": null,
      "id": "cd826299",
      "metadata": {
        "id": "cd826299"
      },
      "outputs": [],
      "source": [
        "anket1_ctungram_scores = extract_values(anket_1, \"CTUNGRAM\")\n",
        "anket2_ctungram_scores = extract_values(anket_2, \"CTUNGRAM\")\n",
        "anket3_ctungram_scores = extract_values(anket_3, \"CTUNGRAM\")\n",
        "anket4_ctungram_scores = extract_values(anket_4, \"CTUNGRAM\")"
      ]
    },
    {
      "cell_type": "code",
      "execution_count": null,
      "id": "f771db5b",
      "metadata": {
        "scrolled": true,
        "id": "f771db5b"
      },
      "outputs": [],
      "source": [
        "total_ctungram_scores = anket1_ctungram_scores + anket2_ctungram_scores + anket3_ctungram_scores + anket4_ctungram_scores\n",
        "total_ctungram_scores = pd.Series(total_ctungram_scores)"
      ]
    },
    {
      "cell_type": "code",
      "execution_count": null,
      "id": "cd97d5df",
      "metadata": {
        "scrolled": false,
        "colab": {
          "base_uri": "https://localhost:8080/"
        },
        "id": "cd97d5df",
        "outputId": "71e5ac6b-8ac0-4bc3-b31b-afcd601596bd"
      },
      "outputs": [
        {
          "output_type": "execute_result",
          "data": {
            "text/plain": [
              "count    715.000000\n",
              "mean      -1.595804\n",
              "std        1.710974\n",
              "min       -3.000000\n",
              "25%       -3.000000\n",
              "50%       -2.000000\n",
              "75%       -1.000000\n",
              "max        3.000000\n",
              "dtype: float64"
            ]
          },
          "metadata": {},
          "execution_count": 11
        }
      ],
      "source": [
        "total_ctungram_scores.describe()"
      ]
    },
    {
      "cell_type": "code",
      "execution_count": null,
      "id": "96200f50",
      "metadata": {
        "scrolled": true,
        "colab": {
          "base_uri": "https://localhost:8080/",
          "height": 489
        },
        "id": "96200f50",
        "outputId": "c049ea8d-cf89-4675-d439-33a9435921e3"
      },
      "outputs": [
        {
          "output_type": "execute_result",
          "data": {
            "text/plain": [
              "Text(0.5, 1.0, 'Distribution of Values for Ungrammatical Filler Sentences')"
            ]
          },
          "metadata": {},
          "execution_count": 12
        },
        {
          "output_type": "display_data",
          "data": {
            "text/plain": [
              "<Figure size 640x480 with 1 Axes>"
            ],
            "image/png": "[encoded data removed]"
          },
          "metadata": {}
        }
      ],
      "source": [
        "plt.hist(total_ctungram_scores)\n",
        "\n",
        "plt.xlim(-3, 3)\n",
        "plt.xlabel('Value')\n",
        "plt.ylabel('Frequency')\n",
        "plt.title('Distribution of Values for Ungrammatical Filler Sentences')"
      ]
    },
    {
      "cell_type": "markdown",
      "id": "195c561a",
      "metadata": {
        "id": "195c561a"
      },
      "source": [
        "## Grammatical Fillers (Informant-based)"
      ]
    },
    {
      "cell_type": "code",
      "execution_count": null,
      "id": "218623ce",
      "metadata": {
        "id": "218623ce"
      },
      "outputs": [],
      "source": [
        "anket1_ctgram_p_scores = extract_values(anket_1, \"ctgram_mean\")\n",
        "anket2_ctgram_p_scores = extract_values(anket_2, \"ctgram_mean\")\n",
        "anket3_ctgram_p_scores = extract_values(anket_3, \"ctgram_mean\")\n",
        "anket4_ctgram_p_scores = extract_values(anket_4, \"ctgram_mean\")"
      ]
    },
    {
      "cell_type": "code",
      "execution_count": null,
      "id": "3b4127a4",
      "metadata": {
        "id": "3b4127a4"
      },
      "outputs": [],
      "source": [
        "total_ctgram_p_scores = anket1_ctgram_p_scores + anket2_ctgram_p_scores + anket3_ctgram_p_scores + anket4_ctgram_p_scores\n",
        "total_ctgram_p_scores = pd.Series(total_ctgram_p_scores)"
      ]
    },
    {
      "cell_type": "code",
      "execution_count": null,
      "id": "0c403326",
      "metadata": {
        "scrolled": true,
        "colab": {
          "base_uri": "https://localhost:8080/"
        },
        "id": "0c403326",
        "outputId": "cc266813-2df1-48ee-ccba-7baa4ee9e909"
      },
      "outputs": [
        {
          "output_type": "execute_result",
          "data": {
            "text/plain": [
              "count    65.000000\n",
              "mean      1.860140\n",
              "std       1.047685\n",
              "min      -3.000000\n",
              "25%       1.545455\n",
              "50%       2.181818\n",
              "75%       2.454545\n",
              "max       3.000000\n",
              "dtype: float64"
            ]
          },
          "metadata": {},
          "execution_count": 15
        }
      ],
      "source": [
        "total_ctgram_p_scores.describe()"
      ]
    },
    {
      "cell_type": "code",
      "execution_count": null,
      "id": "1fffc15f",
      "metadata": {
        "scrolled": true,
        "colab": {
          "base_uri": "https://localhost:8080/",
          "height": 489
        },
        "id": "1fffc15f",
        "outputId": "38027d7d-d009-4e4c-b024-e8286bb89edc"
      },
      "outputs": [
        {
          "output_type": "execute_result",
          "data": {
            "text/plain": [
              "Text(0.5, 1.0, 'Distribution of Average Values for Grammatical (Informant Based) Filler Sentences')"
            ]
          },
          "metadata": {},
          "execution_count": 16
        },
        {
          "output_type": "display_data",
          "data": {
            "text/plain": [
              "<Figure size 640x480 with 1 Axes>"
            ],
            "image/png": "[encoded data removed]"
          },
          "metadata": {}
        }
      ],
      "source": [
        "plt.hist(total_ctgram_p_scores)\n",
        "\n",
        "plt.xlim(-3, 3)\n",
        "plt.xlabel('Value')\n",
        "plt.ylabel('Frequency')\n",
        "plt.title('Distribution of Average Values for Grammatical (Informant Based) Filler Sentences')"
      ]
    },
    {
      "cell_type": "markdown",
      "id": "bd7dec97",
      "metadata": {
        "id": "bd7dec97"
      },
      "source": [
        "## Ungrammatical Fillers (Informant-based)"
      ]
    },
    {
      "cell_type": "code",
      "execution_count": null,
      "id": "0270e734",
      "metadata": {
        "id": "0270e734"
      },
      "outputs": [],
      "source": [
        "anket1_ctungram_p_scores = extract_values(anket_1, \"ctungram_mean\")\n",
        "anket2_ctungram_p_scores = extract_values(anket_2, \"ctungram_mean\")\n",
        "anket3_ctungram_p_scores = extract_values(anket_3, \"ctungram_mean\")\n",
        "anket4_ctungram_p_scores = extract_values(anket_4, \"ctungram_mean\")"
      ]
    },
    {
      "cell_type": "code",
      "execution_count": null,
      "id": "a57ec6ea",
      "metadata": {
        "id": "a57ec6ea"
      },
      "outputs": [],
      "source": [
        "total_ctungram_p_scores = anket1_ctungram_p_scores + anket2_ctungram_p_scores + anket3_ctungram_p_scores + anket4_ctungram_p_scores\n",
        "total_ctungram_p_scores = pd.Series(total_ctungram_p_scores)"
      ]
    },
    {
      "cell_type": "code",
      "execution_count": null,
      "id": "d4f12e3c",
      "metadata": {
        "scrolled": false,
        "colab": {
          "base_uri": "https://localhost:8080/"
        },
        "id": "d4f12e3c",
        "outputId": "a58b54e1-d5ad-4b3d-e311-6dbe0475b3e4"
      },
      "outputs": [
        {
          "output_type": "execute_result",
          "data": {
            "text/plain": [
              "count    65.000000\n",
              "mean     -1.595804\n",
              "std       1.164097\n",
              "min      -3.000000\n",
              "25%      -2.454545\n",
              "50%      -1.909091\n",
              "75%      -1.090909\n",
              "max       1.454545\n",
              "dtype: float64"
            ]
          },
          "metadata": {},
          "execution_count": 19
        }
      ],
      "source": [
        "total_ctungram_p_scores.describe()"
      ]
    },
    {
      "cell_type": "code",
      "execution_count": null,
      "id": "0f4084e4",
      "metadata": {
        "colab": {
          "base_uri": "https://localhost:8080/",
          "height": 489
        },
        "id": "0f4084e4",
        "outputId": "e20610f7-803a-43f6-e652-3e9ccaddcd22"
      },
      "outputs": [
        {
          "output_type": "execute_result",
          "data": {
            "text/plain": [
              "Text(0.5, 1.0, 'Distribution of Average Values for Ungrammatical (Informant Based) Filler Sentences')"
            ]
          },
          "metadata": {},
          "execution_count": 20
        },
        {
          "output_type": "display_data",
          "data": {
            "text/plain": [
              "<Figure size 640x480 with 1 Axes>"
            ],
            "image/png": "[encoded data removed]"
          },
          "metadata": {}
        }
      ],
      "source": [
        "plt.hist(total_ctungram_p_scores)\n",
        "\n",
        "plt.xlim(-3, 3)\n",
        "plt.xlabel('Value')\n",
        "plt.ylabel('Frequency')\n",
        "plt.title('Distribution of Average Values for Ungrammatical (Informant Based) Filler Sentences')"
      ]
    },
    {
      "cell_type": "markdown",
      "id": "6dcb23a4",
      "metadata": {
        "id": "6dcb23a4"
      },
      "source": [
        "# Eliminating Outliers/Non-compliant Participants"
      ]
    },
    {
      "cell_type": "code",
      "execution_count": null,
      "id": "347c1717",
      "metadata": {
        "id": "347c1717"
      },
      "outputs": [],
      "source": [
        "iqr_multiplier = 1.6\n",
        "\n",
        "# Calculate IQR for each dataset using Q3 and Q1\n",
        "iqr_ctungram = total_ctungram_p_scores.quantile(0.75) - total_ctungram_p_scores.quantile(0.25)\n",
        "iqr_ctgram = total_ctgram_p_scores.quantile(0.75) - total_ctgram_p_scores.quantile(0.25)\n",
        "\n",
        "# Calculate thresholds using IQR multiplier and Q3/Q1\n",
        "UT_ung = total_ctungram_p_scores.quantile(0.25) + (iqr_multiplier * iqr_ctungram)\n",
        "LT_ung = total_ctungram_p_scores.quantile(0.75) - (iqr_multiplier * iqr_ctungram)\n",
        "\n",
        "UT_g = total_ctgram_p_scores.quantile(0.25) + (iqr_multiplier * iqr_ctgram)\n",
        "LT_g = total_ctgram_p_scores.quantile(0.75) - (iqr_multiplier * iqr_ctgram)"
      ]
    },
    {
      "cell_type": "code",
      "source": [
        "print(\"UT_ung:\", UT_ung)\n",
        "print(\"LT_ung:\", LT_ung)\n",
        "\n",
        "print(\"UT_g:\", UT_g)\n",
        "print(\"LT_g:\", LT_g)\n",
        "\n",
        "ctgram_threshold = LT_g\n",
        "ctungram_threshold = UT_ung"
      ],
      "metadata": {
        "colab": {
          "base_uri": "https://localhost:8080/"
        },
        "id": "fhuEkiVucUPu",
        "outputId": "c668d187-12c8-43fe-a097-6d585a53d858"
      },
      "id": "fhuEkiVucUPu",
      "execution_count": null,
      "outputs": [
        {
          "output_type": "stream",
          "name": "stdout",
          "text": [
            "UT_ung: -0.2727272727272725\n",
            "LT_ung: -3.272727272727273\n",
            "UT_g: 3.0\n",
            "LT_g: 0.9999999999999998\n"
          ]
        }
      ]
    },
    {
      "cell_type": "code",
      "execution_count": null,
      "id": "f0f4d001",
      "metadata": {
        "id": "f0f4d001"
      },
      "outputs": [],
      "source": [
        "def eliminate_outliers(df, ctgram_threshold, ctungram_threshold):\n",
        "    \"\"\"\n",
        "    Removes rows from the dataframe that have ctgram_mean lower than ctgram_threshold\n",
        "    or ctungram_mean higher than ctungram_threshold.\n",
        "\n",
        "    \"\"\"\n",
        "    cleaned_df = df.copy()\n",
        "\n",
        "    removed_rows = 0\n",
        "\n",
        "    for i, row in cleaned_df.iterrows():\n",
        "        if row['ctgram_mean'] < ctgram_threshold:\n",
        "            print(f\"Removed participant's ID:  {row['id']}\")\n",
        "            print(f\"Removal reason: ctgram_mean below threshold.\")\n",
        "            print(\"*************************************************\")\n",
        "\n",
        "            cleaned_df.drop(i, inplace=True)\n",
        "            removed_rows += 1\n",
        "\n",
        "        elif row['ctungram_mean'] > ctungram_threshold:\n",
        "            print(f\"Removed participant's ID:  {row['id']}\")\n",
        "            print(f\"Removal reason: ctungram_mean above threshold.\")\n",
        "            print(\"*************************************************\")\n",
        "\n",
        "            cleaned_df.drop(i, inplace=True)\n",
        "\n",
        "            removed_rows += 1\n",
        "\n",
        "    print(f\"The number of participants eliminated:  {removed_rows}\")\n",
        "    return cleaned_df"
      ]
    },
    {
      "cell_type": "code",
      "execution_count": null,
      "id": "8406a20c",
      "metadata": {
        "colab": {
          "base_uri": "https://localhost:8080/"
        },
        "id": "8406a20c",
        "outputId": "eee63dc0-8f56-45ef-e49b-b01b9236b2b8"
      },
      "outputs": [
        {
          "output_type": "stream",
          "name": "stdout",
          "text": [
            "Removed participant's ID:  5\n",
            "Removal reason: ctgram_mean below threshold.\n",
            "*************************************************\n",
            "Removed participant's ID:  7\n",
            "Removal reason: ctungram_mean above threshold.\n",
            "*************************************************\n",
            "Removed participant's ID:  13\n",
            "Removal reason: ctungram_mean above threshold.\n",
            "*************************************************\n",
            "Removed participant's ID:  15\n",
            "Removal reason: ctgram_mean below threshold.\n",
            "*************************************************\n",
            "The number of participants eliminated:  4\n"
          ]
        }
      ],
      "source": [
        "cleaned_anket1 = eliminate_outliers(anket_1,\n",
        "                                    ctgram_threshold = ctgram_threshold,\n",
        "                                    ctungram_threshold = ctungram_threshold)"
      ]
    },
    {
      "cell_type": "code",
      "execution_count": null,
      "id": "c669451b",
      "metadata": {
        "scrolled": false,
        "colab": {
          "base_uri": "https://localhost:8080/"
        },
        "id": "c669451b",
        "outputId": "210d91db-5429-4611-cf06-bdda7f3e9148"
      },
      "outputs": [
        {
          "output_type": "stream",
          "name": "stdout",
          "text": [
            "Removed participant's ID:  1\n",
            "Removal reason: ctgram_mean below threshold.\n",
            "*************************************************\n",
            "Removed participant's ID:  3\n",
            "Removal reason: ctungram_mean above threshold.\n",
            "*************************************************\n",
            "Removed participant's ID:  9\n",
            "Removal reason: ctungram_mean above threshold.\n",
            "*************************************************\n",
            "Removed participant's ID:  23\n",
            "Removal reason: ctgram_mean below threshold.\n",
            "*************************************************\n",
            "The number of participants eliminated:  4\n"
          ]
        }
      ],
      "source": [
        "cleaned_anket2 = eliminate_outliers(anket_2,\n",
        "                                    ctgram_threshold = ctgram_threshold,\n",
        "                                    ctungram_threshold = ctungram_threshold)"
      ]
    },
    {
      "cell_type": "code",
      "execution_count": null,
      "id": "07b6c447",
      "metadata": {
        "scrolled": true,
        "colab": {
          "base_uri": "https://localhost:8080/"
        },
        "id": "07b6c447",
        "outputId": "a43a9274-a6f6-4caf-a0e9-85422211f833"
      },
      "outputs": [
        {
          "output_type": "stream",
          "name": "stdout",
          "text": [
            "Removed participant's ID:  6\n",
            "Removal reason: ctungram_mean above threshold.\n",
            "*************************************************\n",
            "Removed participant's ID:  8\n",
            "Removal reason: ctgram_mean below threshold.\n",
            "*************************************************\n",
            "Removed participant's ID:  10\n",
            "Removal reason: ctungram_mean above threshold.\n",
            "*************************************************\n",
            "Removed participant's ID:  12\n",
            "Removal reason: ctgram_mean below threshold.\n",
            "*************************************************\n",
            "Removed participant's ID:  15\n",
            "Removal reason: ctungram_mean above threshold.\n",
            "*************************************************\n",
            "The number of participants eliminated:  5\n"
          ]
        }
      ],
      "source": [
        "cleaned_anket3 = eliminate_outliers(anket_3,\n",
        "                                    ctgram_threshold = ctgram_threshold,\n",
        "                                    ctungram_threshold = ctungram_threshold)"
      ]
    },
    {
      "cell_type": "code",
      "execution_count": null,
      "id": "5556e511",
      "metadata": {
        "colab": {
          "base_uri": "https://localhost:8080/"
        },
        "id": "5556e511",
        "outputId": "39122962-b19e-4609-f3b0-2d1c8d4341b0"
      },
      "outputs": [
        {
          "output_type": "stream",
          "name": "stdout",
          "text": [
            "Removed participant's ID:  5\n",
            "Removal reason: ctungram_mean above threshold.\n",
            "*************************************************\n",
            "Removed participant's ID:  12\n",
            "Removal reason: ctgram_mean below threshold.\n",
            "*************************************************\n",
            "Removed participant's ID:  17\n",
            "Removal reason: ctgram_mean below threshold.\n",
            "*************************************************\n",
            "Removed participant's ID:  18\n",
            "Removal reason: ctungram_mean above threshold.\n",
            "*************************************************\n",
            "The number of participants eliminated:  4\n"
          ]
        }
      ],
      "source": [
        "cleaned_anket4 = eliminate_outliers(anket_4,\n",
        "                                    ctgram_threshold = ctgram_threshold,\n",
        "                                    ctungram_threshold = ctungram_threshold)"
      ]
    },
    {
      "cell_type": "markdown",
      "id": "ab6e6eb3",
      "metadata": {
        "id": "ab6e6eb3"
      },
      "source": [
        "# Unlike Category Coordination (Score-based)"
      ]
    },
    {
      "cell_type": "markdown",
      "id": "a7c6fb0a",
      "metadata": {
        "id": "a7c6fb0a"
      },
      "source": [
        "## LCATM"
      ]
    },
    {
      "cell_type": "code",
      "execution_count": null,
      "id": "09661e89",
      "metadata": {
        "id": "09661e89"
      },
      "outputs": [],
      "source": [
        "anket1_lcatm_scores = extract_values(cleaned_anket1, \"LCATM\")\n",
        "anket2_lcatm_scores = extract_values(cleaned_anket2, \"LCATM\")\n",
        "anket3_lcatm_scores = extract_values(cleaned_anket3, \"LCATM\")\n",
        "anket4_lcatm_scores = extract_values(cleaned_anket4, \"LCATM\")"
      ]
    },
    {
      "cell_type": "code",
      "execution_count": null,
      "id": "773ee4f3",
      "metadata": {
        "id": "773ee4f3"
      },
      "outputs": [],
      "source": [
        "total_lcatm_scores = anket1_lcatm_scores + anket2_lcatm_scores + anket3_lcatm_scores + anket4_lcatm_scores\n",
        "total_lcatm_scores = pd.Series(total_lcatm_scores)"
      ]
    },
    {
      "cell_type": "code",
      "execution_count": null,
      "id": "639cf6f5",
      "metadata": {
        "colab": {
          "base_uri": "https://localhost:8080/"
        },
        "id": "639cf6f5",
        "outputId": "595e13f3-67ac-4e50-8047-46b6fa7c074b"
      },
      "outputs": [
        {
          "output_type": "execute_result",
          "data": {
            "text/plain": [
              "count    135.000000\n",
              "mean       2.496296\n",
              "std        0.945327\n",
              "min       -3.000000\n",
              "25%        2.000000\n",
              "50%        3.000000\n",
              "75%        3.000000\n",
              "max        3.000000\n",
              "dtype: float64"
            ]
          },
          "metadata": {},
          "execution_count": 144
        }
      ],
      "source": [
        "total_lcatm_scores.describe()"
      ]
    },
    {
      "cell_type": "code",
      "execution_count": null,
      "id": "f6bfb335",
      "metadata": {
        "scrolled": true,
        "colab": {
          "base_uri": "https://localhost:8080/",
          "height": 489
        },
        "id": "f6bfb335",
        "outputId": "a8cf07d5-db41-41f8-bc87-4e943df2c7cb"
      },
      "outputs": [
        {
          "output_type": "execute_result",
          "data": {
            "text/plain": [
              "Text(0.5, 1.0, 'Distribution of Values for LCATM')"
            ]
          },
          "metadata": {},
          "execution_count": 145
        },
        {
          "output_type": "display_data",
          "data": {
            "text/plain": [
              "<Figure size 640x480 with 1 Axes>"
            ],
            "image/png": "[encoded data removed]"
          },
          "metadata": {}
        }
      ],
      "source": [
        "plt.hist(total_lcatm_scores)\n",
        "\n",
        "# add labels and title\n",
        "plt.xlim(-3, 3)\n",
        "plt.xlabel('Value')\n",
        "plt.ylabel('Frequency')\n",
        "plt.title('Distribution of Values for LCATM')"
      ]
    },
    {
      "cell_type": "markdown",
      "id": "4999242c",
      "metadata": {
        "id": "4999242c"
      },
      "source": [
        "## UCATM"
      ]
    },
    {
      "cell_type": "code",
      "execution_count": null,
      "id": "bc25a059",
      "metadata": {
        "id": "bc25a059"
      },
      "outputs": [],
      "source": [
        "anket1_ucatm_scores = extract_values(cleaned_anket1, \"UCATM\")\n",
        "anket2_ucatm_scores = extract_values(cleaned_anket2, \"UCATM\")\n",
        "anket3_ucatm_scores = extract_values(cleaned_anket3, \"UCATM\")\n",
        "anket4_ucatm_scores = extract_values(cleaned_anket4, \"UCATM\")"
      ]
    },
    {
      "cell_type": "code",
      "execution_count": null,
      "id": "a96b395c",
      "metadata": {
        "id": "a96b395c"
      },
      "outputs": [],
      "source": [
        "total_ucatm_scores = anket1_ucatm_scores + anket2_ucatm_scores + anket3_ucatm_scores + anket4_ucatm_scores\n",
        "total_ucatm_scores = pd.Series(total_ucatm_scores)"
      ]
    },
    {
      "cell_type": "code",
      "execution_count": null,
      "id": "f954dd2a",
      "metadata": {
        "id": "f954dd2a"
      },
      "outputs": [],
      "source": [
        "total_ucatm_scores.describe()"
      ]
    },
    {
      "cell_type": "code",
      "execution_count": null,
      "id": "6d7cbf16",
      "metadata": {
        "scrolled": true,
        "colab": {
          "base_uri": "https://localhost:8080/",
          "height": 489
        },
        "id": "6d7cbf16",
        "outputId": "3dea7f9c-7aed-4188-f238-786575ad20a1"
      },
      "outputs": [
        {
          "output_type": "execute_result",
          "data": {
            "text/plain": [
              "Text(0.5, 1.0, 'Distribution of Values for UCATM')"
            ]
          },
          "metadata": {},
          "execution_count": 149
        },
        {
          "output_type": "display_data",
          "data": {
            "text/plain": [
              "<Figure size 640x480 with 1 Axes>"
            ],
            "image/png": "[encoded data removed]"
          },
          "metadata": {}
        }
      ],
      "source": [
        "plt.hist(total_ucatm_scores)\n",
        "\n",
        "# add labels and title\n",
        "plt.xlim(-3, 3)\n",
        "plt.xlabel('Value')\n",
        "plt.ylabel('Frequency')\n",
        "plt.title('Distribution of Values for UCATM')"
      ]
    },
    {
      "cell_type": "markdown",
      "id": "36179007",
      "metadata": {
        "id": "36179007"
      },
      "source": [
        "## LCATU"
      ]
    },
    {
      "cell_type": "code",
      "execution_count": null,
      "id": "87d009e7",
      "metadata": {
        "id": "87d009e7"
      },
      "outputs": [],
      "source": [
        "anket1_lcatu_scores = extract_values(cleaned_anket1, \"LCATU\")\n",
        "anket2_lcatu_scores = extract_values(cleaned_anket2, \"LCATU\")\n",
        "anket3_lcatu_scores = extract_values(cleaned_anket3, \"LCATU\")\n",
        "anket4_lcatu_scores = extract_values(cleaned_anket4, \"LCATU\")"
      ]
    },
    {
      "cell_type": "code",
      "execution_count": null,
      "id": "ea4267e9",
      "metadata": {
        "id": "ea4267e9"
      },
      "outputs": [],
      "source": [
        "total_lcatu_scores = anket1_lcatu_scores + anket2_lcatu_scores + anket3_lcatu_scores + anket4_lcatu_scores\n",
        "total_lcatu_scores = pd.Series(total_lcatu_scores)"
      ]
    },
    {
      "cell_type": "code",
      "execution_count": null,
      "id": "1d41ec84",
      "metadata": {
        "colab": {
          "base_uri": "https://localhost:8080/"
        },
        "id": "1d41ec84",
        "outputId": "9e10d626-c256-4176-b13a-ae3712e2a7bd"
      },
      "outputs": [
        {
          "output_type": "execute_result",
          "data": {
            "text/plain": [
              "count    135.000000\n",
              "mean      -0.777778\n",
              "std        1.922633\n",
              "min       -3.000000\n",
              "25%       -2.500000\n",
              "50%       -1.000000\n",
              "75%        1.000000\n",
              "max        3.000000\n",
              "dtype: float64"
            ]
          },
          "metadata": {},
          "execution_count": 152
        }
      ],
      "source": [
        "total_lcatu_scores.describe()"
      ]
    },
    {
      "cell_type": "code",
      "execution_count": null,
      "id": "868d4c5a",
      "metadata": {
        "colab": {
          "base_uri": "https://localhost:8080/",
          "height": 489
        },
        "id": "868d4c5a",
        "outputId": "7ee01ea4-1214-445f-c851-23451b9c7531"
      },
      "outputs": [
        {
          "output_type": "execute_result",
          "data": {
            "text/plain": [
              "Text(0.5, 1.0, 'Distribution of Values for LCATU')"
            ]
          },
          "metadata": {},
          "execution_count": 153
        },
        {
          "output_type": "display_data",
          "data": {
            "text/plain": [
              "<Figure size 640x480 with 1 Axes>"
            ],
            "image/png": "[encoded data removed]"
          },
          "metadata": {}
        }
      ],
      "source": [
        "plt.hist(total_lcatu_scores)\n",
        "\n",
        "# add labels and title\n",
        "plt.xlim(-3, 3)\n",
        "plt.xlabel('Value')\n",
        "plt.ylabel('Frequency')\n",
        "plt.title('Distribution of Values for LCATU')"
      ]
    },
    {
      "cell_type": "markdown",
      "id": "70fbcb16",
      "metadata": {
        "id": "70fbcb16"
      },
      "source": [
        "## UCATU"
      ]
    },
    {
      "cell_type": "code",
      "execution_count": null,
      "id": "36f15021",
      "metadata": {
        "id": "36f15021"
      },
      "outputs": [],
      "source": [
        "anket1_ucatu_scores = extract_values(cleaned_anket1, \"UCATU\")\n",
        "anket2_ucatu_scores = extract_values(cleaned_anket2, \"UCATU\")\n",
        "anket3_ucatu_scores = extract_values(cleaned_anket3, \"UCATU\")\n",
        "anket4_ucatu_scores = extract_values(cleaned_anket4, \"UCATU\")"
      ]
    },
    {
      "cell_type": "code",
      "execution_count": null,
      "id": "053002c3",
      "metadata": {
        "id": "053002c3"
      },
      "outputs": [],
      "source": [
        "total_ucatu_scores = anket1_ucatu_scores + anket2_ucatu_scores + anket3_ucatu_scores + anket4_ucatu_scores\n",
        "total_ucatu_scores = pd.Series(total_ucatu_scores)"
      ]
    },
    {
      "cell_type": "code",
      "execution_count": null,
      "id": "f67d0168",
      "metadata": {
        "scrolled": true,
        "colab": {
          "base_uri": "https://localhost:8080/"
        },
        "id": "f67d0168",
        "outputId": "e6bc5c6a-c68c-4749-c481-c38e9ea17fd5"
      },
      "outputs": [
        {
          "output_type": "execute_result",
          "data": {
            "text/plain": [
              "count    135.000000\n",
              "mean      -0.770370\n",
              "std        1.962106\n",
              "min       -3.000000\n",
              "25%       -3.000000\n",
              "50%       -1.000000\n",
              "75%        1.000000\n",
              "max        3.000000\n",
              "dtype: float64"
            ]
          },
          "metadata": {},
          "execution_count": 156
        }
      ],
      "source": [
        "total_ucatu_scores.describe()"
      ]
    },
    {
      "cell_type": "code",
      "execution_count": null,
      "id": "986aa113",
      "metadata": {
        "id": "986aa113",
        "outputId": "eb788857-7ea3-400f-b035-3b263a31bedc"
      },
      "outputs": [
        {
          "data": {
            "text/plain": [
              "Text(0.5, 1.0, 'Distribution of Values for UCATU')"
            ]
          },
          "execution_count": 101,
          "metadata": {},
          "output_type": "execute_result"
        },
        {
          "data": {
            "image/png": "[encoded data removed]",
            "text/plain": [
              "<Figure size 432x288 with 1 Axes>"
            ]
          },
          "metadata": {
            "needs_background": "light"
          },
          "output_type": "display_data"
        }
      ],
      "source": [
        "plt.hist(total_ucatu_scores)\n",
        "\n",
        "# add labels and title\n",
        "plt.xlim(-3, 3)\n",
        "plt.xlabel('Value')\n",
        "plt.ylabel('Frequency')\n",
        "plt.title('Distribution of Values for UCATU')"
      ]
    },
    {
      "cell_type": "markdown",
      "id": "ba6a9abc",
      "metadata": {
        "id": "ba6a9abc"
      },
      "source": [
        "## Combined Category Results (Score-based)"
      ]
    },
    {
      "cell_type": "code",
      "execution_count": null,
      "id": "f5020fa1",
      "metadata": {
        "id": "f5020fa1"
      },
      "outputs": [],
      "source": [
        "combined_results = pd.concat([total_lcatm_scores,\n",
        "                              total_ucatm_scores,\n",
        "                              total_lcatu_scores,\n",
        "                              total_ucatu_scores], axis=1)\n",
        "combined_results.columns = ['LCATM', 'UCATM', 'LCATU', 'UCATU']"
      ]
    },
    {
      "cell_type": "code",
      "execution_count": null,
      "id": "ceac6718",
      "metadata": {
        "scrolled": true,
        "colab": {
          "base_uri": "https://localhost:8080/",
          "height": 430
        },
        "id": "ceac6718",
        "outputId": "e90b6e93-d2c8-4892-fd10-c58aebb7c981"
      },
      "outputs": [
        {
          "output_type": "display_data",
          "data": {
            "text/plain": [
              "<Figure size 640x480 with 1 Axes>"
            ],
            "image/png": "[encoded data removed]"
          },
          "metadata": {}
        }
      ],
      "source": [
        "plt.boxplot(combined_results.values, labels=combined_results.columns, whis=1.96)\n",
        "plt.show()"
      ]
    },
    {
      "cell_type": "markdown",
      "id": "eac3d054",
      "metadata": {
        "id": "eac3d054"
      },
      "source": [
        "# Coordination of Unlike Cases (Score-based)"
      ]
    },
    {
      "cell_type": "markdown",
      "id": "fbc05746",
      "metadata": {
        "id": "fbc05746"
      },
      "source": [
        "## LCASEM"
      ]
    },
    {
      "cell_type": "code",
      "execution_count": null,
      "id": "83700713",
      "metadata": {
        "id": "83700713"
      },
      "outputs": [],
      "source": [
        "anket1_lcasem_scores = extract_values(cleaned_anket1, \"LCASEM\")\n",
        "anket2_lcasem_scores = extract_values(cleaned_anket2, \"LCASEM\")\n",
        "anket3_lcasem_scores = extract_values(cleaned_anket3, \"LCASEM\")\n",
        "anket4_lcasem_scores = extract_values(cleaned_anket4, \"LCASEM\")"
      ]
    },
    {
      "cell_type": "code",
      "execution_count": null,
      "id": "b6cc74fa",
      "metadata": {
        "id": "b6cc74fa"
      },
      "outputs": [],
      "source": [
        "total_lcasem_scores = anket1_lcasem_scores + anket2_lcasem_scores + anket3_lcasem_scores + anket4_lcasem_scores\n",
        "total_lcasem_scores = pd.Series(total_lcasem_scores)"
      ]
    },
    {
      "cell_type": "code",
      "execution_count": null,
      "id": "f4393cc1",
      "metadata": {
        "colab": {
          "base_uri": "https://localhost:8080/"
        },
        "id": "f4393cc1",
        "outputId": "64fe7731-de70-4475-a957-36e28b7f6458"
      },
      "outputs": [
        {
          "output_type": "execute_result",
          "data": {
            "text/plain": [
              "count    135.000000\n",
              "mean       2.377778\n",
              "std        1.274706\n",
              "min       -3.000000\n",
              "25%        2.000000\n",
              "50%        3.000000\n",
              "75%        3.000000\n",
              "max        3.000000\n",
              "dtype: float64"
            ]
          },
          "metadata": {},
          "execution_count": 161
        }
      ],
      "source": [
        "total_lcasem_scores.describe()"
      ]
    },
    {
      "cell_type": "code",
      "execution_count": null,
      "id": "99c02fa2",
      "metadata": {
        "id": "99c02fa2",
        "outputId": "200215ce-09ce-4c09-c98c-5fe3efdb6583"
      },
      "outputs": [
        {
          "data": {
            "text/plain": [
              "Text(0.5, 1.0, 'Distribution of Values for LCASEM')"
            ]
          },
          "execution_count": 100,
          "metadata": {},
          "output_type": "execute_result"
        },
        {
          "data": {
            "image/png": "[encoded data removed]",
            "text/plain": [
              "<Figure size 432x288 with 1 Axes>"
            ]
          },
          "metadata": {
            "needs_background": "light"
          },
          "output_type": "display_data"
        }
      ],
      "source": [
        "plt.hist(total_lcasem_scores)\n",
        "\n",
        "# add labels and title\n",
        "plt.xlim(-3, 3)\n",
        "plt.xlabel('Value')\n",
        "plt.ylabel('Frequency')\n",
        "plt.title('Distribution of Values for LCASEM')"
      ]
    },
    {
      "cell_type": "markdown",
      "id": "a0ff6ad9",
      "metadata": {
        "id": "a0ff6ad9"
      },
      "source": [
        "## UCASEM"
      ]
    },
    {
      "cell_type": "code",
      "execution_count": null,
      "id": "0ad801f1",
      "metadata": {
        "id": "0ad801f1"
      },
      "outputs": [],
      "source": [
        "anket1_ucasem_scores = extract_values(cleaned_anket1, \"UCASEM\")\n",
        "anket2_ucasem_scores = extract_values(cleaned_anket2, \"UCASEM\")\n",
        "anket3_ucasem_scores = extract_values(cleaned_anket3, \"UCASEM\")\n",
        "anket4_ucasem_scores = extract_values(cleaned_anket4, \"UCASEM\")"
      ]
    },
    {
      "cell_type": "code",
      "execution_count": null,
      "id": "91d6f288",
      "metadata": {
        "id": "91d6f288"
      },
      "outputs": [],
      "source": [
        "total_ucasem_scores = anket1_ucasem_scores + anket2_ucasem_scores + anket3_ucasem_scores + anket4_ucasem_scores\n",
        "total_ucasem_scores = pd.Series(total_ucasem_scores)"
      ]
    },
    {
      "cell_type": "code",
      "execution_count": null,
      "id": "907a0cb2",
      "metadata": {
        "id": "907a0cb2",
        "outputId": "28830e89-e0fb-43e3-a351-39ff5ceed182"
      },
      "outputs": [
        {
          "data": {
            "text/plain": [
              "count    123.000000\n",
              "mean       1.739837\n",
              "std        1.618730\n",
              "min       -3.000000\n",
              "25%        1.000000\n",
              "50%        2.000000\n",
              "75%        3.000000\n",
              "max        3.000000\n",
              "dtype: float64"
            ]
          },
          "execution_count": 53,
          "metadata": {},
          "output_type": "execute_result"
        }
      ],
      "source": [
        "total_ucasem_scores.describe()"
      ]
    },
    {
      "cell_type": "code",
      "execution_count": null,
      "id": "c23afe5f",
      "metadata": {
        "id": "c23afe5f",
        "outputId": "dc4b2681-080f-4750-d536-eb28b55229c7"
      },
      "outputs": [
        {
          "data": {
            "text/plain": [
              "Text(0.5, 1.0, 'Distribution of Values for UCASEM')"
            ]
          },
          "execution_count": 99,
          "metadata": {},
          "output_type": "execute_result"
        },
        {
          "data": {
            "image/png": "[encoded data removed]",
            "text/plain": [
              "<Figure size 432x288 with 1 Axes>"
            ]
          },
          "metadata": {
            "needs_background": "light"
          },
          "output_type": "display_data"
        }
      ],
      "source": [
        "plt.hist(total_ucasem_scores)\n",
        "\n",
        "# add labels and title\n",
        "plt.xlim(-3, 3)\n",
        "plt.xlabel('Value')\n",
        "plt.ylabel('Frequency')\n",
        "plt.title('Distribution of Values for UCASEM')"
      ]
    },
    {
      "cell_type": "markdown",
      "id": "edac9399",
      "metadata": {
        "id": "edac9399"
      },
      "source": [
        "## UCASEU"
      ]
    },
    {
      "cell_type": "code",
      "execution_count": null,
      "id": "afca56a7",
      "metadata": {
        "id": "afca56a7"
      },
      "outputs": [],
      "source": [
        "anket1_ucaseu_scores = extract_values(cleaned_anket1, \"UCASEU\")\n",
        "anket2_ucaseu_scores = extract_values(cleaned_anket2, \"UCASEU\")\n",
        "anket3_ucaseu_scores = extract_values(cleaned_anket3, \"UCASEU\")\n",
        "anket4_ucaseu_scores = extract_values(cleaned_anket4, \"UCASEU\")"
      ]
    },
    {
      "cell_type": "code",
      "execution_count": null,
      "id": "b15208b8",
      "metadata": {
        "id": "b15208b8"
      },
      "outputs": [],
      "source": [
        "total_ucaseu_scores = anket1_ucaseu_scores + anket2_ucaseu_scores + anket3_ucaseu_scores + anket4_ucaseu_scores\n",
        "total_ucaseu_scores = pd.Series(total_ucaseu_scores)"
      ]
    },
    {
      "cell_type": "code",
      "execution_count": null,
      "id": "4e8db74d",
      "metadata": {
        "id": "4e8db74d",
        "outputId": "e006bba4-4bd3-425d-8a47-c842c2341025"
      },
      "outputs": [
        {
          "data": {
            "text/plain": [
              "count    123.000000\n",
              "mean      -0.276423\n",
              "std        2.029701\n",
              "min       -3.000000\n",
              "25%       -2.000000\n",
              "50%       -1.000000\n",
              "75%        1.000000\n",
              "max        3.000000\n",
              "dtype: float64"
            ]
          },
          "execution_count": 57,
          "metadata": {},
          "output_type": "execute_result"
        }
      ],
      "source": [
        "total_ucaseu_scores.describe()"
      ]
    },
    {
      "cell_type": "code",
      "execution_count": null,
      "id": "62823b0f",
      "metadata": {
        "id": "62823b0f",
        "outputId": "65018fcb-aea9-4895-a475-d792634aaa78"
      },
      "outputs": [
        {
          "data": {
            "text/plain": [
              "Text(0.5, 1.0, 'Distribution of Values for UCASEU')"
            ]
          },
          "execution_count": 98,
          "metadata": {},
          "output_type": "execute_result"
        },
        {
          "data": {
            "image/png": "[encoded data removed]",
            "text/plain": [
              "<Figure size 432x288 with 1 Axes>"
            ]
          },
          "metadata": {
            "needs_background": "light"
          },
          "output_type": "display_data"
        }
      ],
      "source": [
        "plt.hist(total_ucaseu_scores)\n",
        "\n",
        "# add labels and title\n",
        "plt.xlim(-3, 3)\n",
        "plt.xlabel('Value')\n",
        "plt.ylabel('Frequency')\n",
        "plt.title('Distribution of Values for UCASEU')"
      ]
    },
    {
      "cell_type": "markdown",
      "id": "c6d376fc",
      "metadata": {
        "id": "c6d376fc"
      },
      "source": [
        "## Combined Case Results (Score-based)"
      ]
    },
    {
      "cell_type": "code",
      "execution_count": null,
      "id": "f755dfb3",
      "metadata": {
        "id": "f755dfb3"
      },
      "outputs": [],
      "source": [
        "combined_case_results = pd.concat([total_lcasem_scores,\n",
        "                                  total_ucasem_scores,\n",
        "                                  total_ucaseu_scores], axis=1)\n",
        "combined_case_results.columns = ['LCASEM', 'UCASEM', 'UCASEU']"
      ]
    },
    {
      "cell_type": "code",
      "execution_count": null,
      "id": "a2e36834",
      "metadata": {
        "id": "a2e36834",
        "outputId": "6aa84683-975f-4cd3-9f21-411d9758073e"
      },
      "outputs": [
        {
          "data": {
            "image/png": "[encoded data removed]",
            "text/plain": [
              "<Figure size 432x288 with 1 Axes>"
            ]
          },
          "metadata": {
            "needs_background": "light"
          },
          "output_type": "display_data"
        }
      ],
      "source": [
        "plt.boxplot(combined_case_results.values, labels=combined_case_results.columns, whis=1.96)\n",
        "plt.show()"
      ]
    },
    {
      "cell_type": "markdown",
      "id": "22cd46d2",
      "metadata": {
        "id": "22cd46d2"
      },
      "source": [
        "# Coordination of Unlike Categories (Informant-based)"
      ]
    },
    {
      "cell_type": "markdown",
      "id": "4ff6c42d",
      "metadata": {
        "id": "4ff6c42d"
      },
      "source": [
        "## Informant-based averaged data transformation"
      ]
    },
    {
      "cell_type": "code",
      "execution_count": null,
      "id": "9ff68647",
      "metadata": {
        "id": "9ff68647"
      },
      "outputs": [],
      "source": [
        "def calculate_condition_means(df, prefix=\"\"):\n",
        "    # Create a list of the conditions we want to average\n",
        "    conditions = [\"LCATM\", \"UCATM\", \"LCATU\", \"UCATU\", \"LCASEM\", \"UCASEM\", \"UCASEU\"]\n",
        "\n",
        "    # Create a new dataframe to hold the results\n",
        "    result_df = pd.DataFrame(columns=[\"id\"] + conditions)\n",
        "\n",
        "    # Iterate over the rows in the input dataframe\n",
        "    for index, row in df.iterrows():\n",
        "        # Add the prefix to the participant ID\n",
        "        participant_id = prefix + str(row[\"id\"])\n",
        "\n",
        "        # Create a dictionary to hold the means for each condition\n",
        "        condition_means = {}\n",
        "        for condition in conditions:\n",
        "            # Find all columns that correspond to this condition\n",
        "            columns = [col for col in df.columns if col.startswith(condition)]\n",
        "\n",
        "            # Calculate the mean for this condition and add it to the dictionary\n",
        "            condition_means[condition] = row[columns].mean()\n",
        "\n",
        "        # Add the participant id and condition means to the result dataframe\n",
        "        result_df.loc[index] = [participant_id] + list(condition_means.values())\n",
        "\n",
        "    return result_df"
      ]
    },
    {
      "cell_type": "code",
      "execution_count": null,
      "id": "2aba09d8",
      "metadata": {
        "id": "2aba09d8"
      },
      "outputs": [],
      "source": [
        "informant_average_dataframe1 = calculate_condition_means(cleaned_anket1, prefix = \"I-\")\n",
        "informant_average_dataframe2 = calculate_condition_means(cleaned_anket2, prefix = \"II-\")\n",
        "informant_average_dataframe3 = calculate_condition_means(cleaned_anket3, prefix = \"III-\")\n",
        "informant_average_dataframe4 = calculate_condition_means(cleaned_anket4, prefix = \"IV-\")"
      ]
    },
    {
      "cell_type": "code",
      "execution_count": null,
      "id": "e886f713",
      "metadata": {
        "id": "e886f713"
      },
      "outputs": [],
      "source": [
        "informant_compiled = pd.concat([informant_average_dataframe1,\n",
        "                                           informant_average_dataframe2,\n",
        "                                           informant_average_dataframe3,\n",
        "                                           informant_average_dataframe4], ignore_index=True)"
      ]
    },
    {
      "cell_type": "code",
      "execution_count": null,
      "id": "a43e326d",
      "metadata": {
        "scrolled": true,
        "id": "a43e326d",
        "outputId": "22cd7e36-8825-45bc-9626-d516e34ae710"
      },
      "outputs": [
        {
          "data": {
            "text/html": [
              "<div>\n",
              "<style scoped>\n",
              "    .dataframe tbody tr th:only-of-type {\n",
              "        vertical-align: middle;\n",
              "    }\n",
              "\n",
              "    .dataframe tbody tr th {\n",
              "        vertical-align: top;\n",
              "    }\n",
              "\n",
              "    .dataframe thead th {\n",
              "        text-align: right;\n",
              "    }\n",
              "</style>\n",
              "<table border=\"1\" class=\"dataframe\">\n",
              "  <thead>\n",
              "    <tr style=\"text-align: right;\">\n",
              "      <th></th>\n",
              "      <th>id</th>\n",
              "      <th>LCATM</th>\n",
              "      <th>UCATM</th>\n",
              "      <th>LCATU</th>\n",
              "      <th>UCATU</th>\n",
              "      <th>LCASEM</th>\n",
              "      <th>UCASEM</th>\n",
              "      <th>UCASEU</th>\n",
              "    </tr>\n",
              "  </thead>\n",
              "  <tbody>\n",
              "    <tr>\n",
              "      <th>0</th>\n",
              "      <td>I-3</td>\n",
              "      <td>2.666667</td>\n",
              "      <td>3.000000</td>\n",
              "      <td>2.333333</td>\n",
              "      <td>-0.666667</td>\n",
              "      <td>2.666667</td>\n",
              "      <td>3.000000</td>\n",
              "      <td>1.000000</td>\n",
              "    </tr>\n",
              "    <tr>\n",
              "      <th>1</th>\n",
              "      <td>I-10</td>\n",
              "      <td>0.666667</td>\n",
              "      <td>2.666667</td>\n",
              "      <td>-2.333333</td>\n",
              "      <td>-2.666667</td>\n",
              "      <td>-1.000000</td>\n",
              "      <td>2.000000</td>\n",
              "      <td>-2.333333</td>\n",
              "    </tr>\n",
              "    <tr>\n",
              "      <th>2</th>\n",
              "      <td>I-11</td>\n",
              "      <td>2.333333</td>\n",
              "      <td>0.333333</td>\n",
              "      <td>-2.000000</td>\n",
              "      <td>-2.333333</td>\n",
              "      <td>1.666667</td>\n",
              "      <td>1.000000</td>\n",
              "      <td>-0.666667</td>\n",
              "    </tr>\n",
              "    <tr>\n",
              "      <th>3</th>\n",
              "      <td>I-12</td>\n",
              "      <td>3.000000</td>\n",
              "      <td>2.333333</td>\n",
              "      <td>-1.333333</td>\n",
              "      <td>-1.333333</td>\n",
              "      <td>3.000000</td>\n",
              "      <td>2.333333</td>\n",
              "      <td>-0.666667</td>\n",
              "    </tr>\n",
              "    <tr>\n",
              "      <th>4</th>\n",
              "      <td>I-14</td>\n",
              "      <td>2.666667</td>\n",
              "      <td>3.000000</td>\n",
              "      <td>-1.666667</td>\n",
              "      <td>-3.000000</td>\n",
              "      <td>3.000000</td>\n",
              "      <td>3.000000</td>\n",
              "      <td>-0.666667</td>\n",
              "    </tr>\n",
              "    <tr>\n",
              "      <th>5</th>\n",
              "      <td>I-16</td>\n",
              "      <td>2.666667</td>\n",
              "      <td>2.333333</td>\n",
              "      <td>-1.333333</td>\n",
              "      <td>-0.666667</td>\n",
              "      <td>1.666667</td>\n",
              "      <td>1.666667</td>\n",
              "      <td>0.000000</td>\n",
              "    </tr>\n",
              "    <tr>\n",
              "      <th>6</th>\n",
              "      <td>I-17</td>\n",
              "      <td>3.000000</td>\n",
              "      <td>1.666667</td>\n",
              "      <td>-0.333333</td>\n",
              "      <td>0.666667</td>\n",
              "      <td>1.000000</td>\n",
              "      <td>1.666667</td>\n",
              "      <td>1.000000</td>\n",
              "    </tr>\n",
              "    <tr>\n",
              "      <th>7</th>\n",
              "      <td>I-18</td>\n",
              "      <td>2.333333</td>\n",
              "      <td>2.666667</td>\n",
              "      <td>0.333333</td>\n",
              "      <td>0.333333</td>\n",
              "      <td>1.333333</td>\n",
              "      <td>1.666667</td>\n",
              "      <td>-0.333333</td>\n",
              "    </tr>\n",
              "    <tr>\n",
              "      <th>8</th>\n",
              "      <td>I-19</td>\n",
              "      <td>3.000000</td>\n",
              "      <td>3.000000</td>\n",
              "      <td>-1.666667</td>\n",
              "      <td>-2.666667</td>\n",
              "      <td>2.333333</td>\n",
              "      <td>1.333333</td>\n",
              "      <td>0.000000</td>\n",
              "    </tr>\n",
              "    <tr>\n",
              "      <th>9</th>\n",
              "      <td>I-20</td>\n",
              "      <td>2.000000</td>\n",
              "      <td>1.666667</td>\n",
              "      <td>-1.333333</td>\n",
              "      <td>-1.333333</td>\n",
              "      <td>2.666667</td>\n",
              "      <td>1.333333</td>\n",
              "      <td>-1.000000</td>\n",
              "    </tr>\n",
              "    <tr>\n",
              "      <th>10</th>\n",
              "      <td>II-4</td>\n",
              "      <td>3.000000</td>\n",
              "      <td>2.000000</td>\n",
              "      <td>1.666667</td>\n",
              "      <td>0.333333</td>\n",
              "      <td>3.000000</td>\n",
              "      <td>3.000000</td>\n",
              "      <td>-2.000000</td>\n",
              "    </tr>\n",
              "    <tr>\n",
              "      <th>11</th>\n",
              "      <td>II-6</td>\n",
              "      <td>3.000000</td>\n",
              "      <td>2.333333</td>\n",
              "      <td>2.333333</td>\n",
              "      <td>-1.000000</td>\n",
              "      <td>3.000000</td>\n",
              "      <td>1.666667</td>\n",
              "      <td>1.666667</td>\n",
              "    </tr>\n",
              "    <tr>\n",
              "      <th>12</th>\n",
              "      <td>II-11</td>\n",
              "      <td>2.333333</td>\n",
              "      <td>0.666667</td>\n",
              "      <td>0.333333</td>\n",
              "      <td>0.666667</td>\n",
              "      <td>2.666667</td>\n",
              "      <td>1.333333</td>\n",
              "      <td>-1.000000</td>\n",
              "    </tr>\n",
              "    <tr>\n",
              "      <th>13</th>\n",
              "      <td>II-13</td>\n",
              "      <td>2.666667</td>\n",
              "      <td>0.000000</td>\n",
              "      <td>-3.000000</td>\n",
              "      <td>-2.666667</td>\n",
              "      <td>1.000000</td>\n",
              "      <td>0.333333</td>\n",
              "      <td>-3.000000</td>\n",
              "    </tr>\n",
              "    <tr>\n",
              "      <th>14</th>\n",
              "      <td>II-14</td>\n",
              "      <td>3.000000</td>\n",
              "      <td>3.000000</td>\n",
              "      <td>2.333333</td>\n",
              "      <td>0.333333</td>\n",
              "      <td>3.000000</td>\n",
              "      <td>3.000000</td>\n",
              "      <td>2.000000</td>\n",
              "    </tr>\n",
              "    <tr>\n",
              "      <th>15</th>\n",
              "      <td>II-15</td>\n",
              "      <td>2.666667</td>\n",
              "      <td>0.333333</td>\n",
              "      <td>1.000000</td>\n",
              "      <td>0.000000</td>\n",
              "      <td>2.666667</td>\n",
              "      <td>2.666667</td>\n",
              "      <td>1.666667</td>\n",
              "    </tr>\n",
              "    <tr>\n",
              "      <th>16</th>\n",
              "      <td>II-17</td>\n",
              "      <td>2.333333</td>\n",
              "      <td>1.666667</td>\n",
              "      <td>-0.666667</td>\n",
              "      <td>0.333333</td>\n",
              "      <td>2.666667</td>\n",
              "      <td>1.333333</td>\n",
              "      <td>0.333333</td>\n",
              "    </tr>\n",
              "    <tr>\n",
              "      <th>17</th>\n",
              "      <td>II-18</td>\n",
              "      <td>3.000000</td>\n",
              "      <td>2.333333</td>\n",
              "      <td>-2.000000</td>\n",
              "      <td>0.000000</td>\n",
              "      <td>2.666667</td>\n",
              "      <td>2.666667</td>\n",
              "      <td>-2.333333</td>\n",
              "    </tr>\n",
              "    <tr>\n",
              "      <th>18</th>\n",
              "      <td>II-19</td>\n",
              "      <td>3.000000</td>\n",
              "      <td>1.000000</td>\n",
              "      <td>-3.000000</td>\n",
              "      <td>-3.000000</td>\n",
              "      <td>3.000000</td>\n",
              "      <td>3.000000</td>\n",
              "      <td>-3.000000</td>\n",
              "    </tr>\n",
              "    <tr>\n",
              "      <th>19</th>\n",
              "      <td>II-20</td>\n",
              "      <td>2.333333</td>\n",
              "      <td>2.333333</td>\n",
              "      <td>0.000000</td>\n",
              "      <td>0.333333</td>\n",
              "      <td>3.000000</td>\n",
              "      <td>2.333333</td>\n",
              "      <td>-0.333333</td>\n",
              "    </tr>\n",
              "    <tr>\n",
              "      <th>20</th>\n",
              "      <td>III-3</td>\n",
              "      <td>2.666667</td>\n",
              "      <td>2.333333</td>\n",
              "      <td>-3.000000</td>\n",
              "      <td>-2.666667</td>\n",
              "      <td>3.000000</td>\n",
              "      <td>2.333333</td>\n",
              "      <td>-1.333333</td>\n",
              "    </tr>\n",
              "    <tr>\n",
              "      <th>21</th>\n",
              "      <td>III-5</td>\n",
              "      <td>2.333333</td>\n",
              "      <td>-0.666667</td>\n",
              "      <td>-2.333333</td>\n",
              "      <td>2.333333</td>\n",
              "      <td>3.000000</td>\n",
              "      <td>-0.333333</td>\n",
              "      <td>-1.666667</td>\n",
              "    </tr>\n",
              "    <tr>\n",
              "      <th>22</th>\n",
              "      <td>III-17</td>\n",
              "      <td>1.333333</td>\n",
              "      <td>1.000000</td>\n",
              "      <td>2.000000</td>\n",
              "      <td>2.666667</td>\n",
              "      <td>1.333333</td>\n",
              "      <td>1.333333</td>\n",
              "      <td>1.333333</td>\n",
              "    </tr>\n",
              "    <tr>\n",
              "      <th>23</th>\n",
              "      <td>III-18</td>\n",
              "      <td>3.000000</td>\n",
              "      <td>1.666667</td>\n",
              "      <td>0.666667</td>\n",
              "      <td>0.000000</td>\n",
              "      <td>3.000000</td>\n",
              "      <td>0.000000</td>\n",
              "      <td>-0.333333</td>\n",
              "    </tr>\n",
              "    <tr>\n",
              "      <th>24</th>\n",
              "      <td>III-22</td>\n",
              "      <td>1.666667</td>\n",
              "      <td>0.333333</td>\n",
              "      <td>-0.333333</td>\n",
              "      <td>0.000000</td>\n",
              "      <td>3.000000</td>\n",
              "      <td>1.666667</td>\n",
              "      <td>-0.333333</td>\n",
              "    </tr>\n",
              "    <tr>\n",
              "      <th>25</th>\n",
              "      <td>III-24</td>\n",
              "      <td>3.000000</td>\n",
              "      <td>2.000000</td>\n",
              "      <td>1.000000</td>\n",
              "      <td>0.000000</td>\n",
              "      <td>2.000000</td>\n",
              "      <td>1.000000</td>\n",
              "      <td>0.666667</td>\n",
              "    </tr>\n",
              "    <tr>\n",
              "      <th>26</th>\n",
              "      <td>III-26</td>\n",
              "      <td>3.000000</td>\n",
              "      <td>3.000000</td>\n",
              "      <td>-0.666667</td>\n",
              "      <td>-0.333333</td>\n",
              "      <td>3.000000</td>\n",
              "      <td>1.666667</td>\n",
              "      <td>-1.666667</td>\n",
              "    </tr>\n",
              "    <tr>\n",
              "      <th>27</th>\n",
              "      <td>III-27</td>\n",
              "      <td>2.666667</td>\n",
              "      <td>1.000000</td>\n",
              "      <td>-2.333333</td>\n",
              "      <td>-2.666667</td>\n",
              "      <td>2.666667</td>\n",
              "      <td>-1.666667</td>\n",
              "      <td>-3.000000</td>\n",
              "    </tr>\n",
              "    <tr>\n",
              "      <th>28</th>\n",
              "      <td>III-28</td>\n",
              "      <td>2.666667</td>\n",
              "      <td>0.666667</td>\n",
              "      <td>-0.333333</td>\n",
              "      <td>0.000000</td>\n",
              "      <td>3.000000</td>\n",
              "      <td>0.000000</td>\n",
              "      <td>-2.000000</td>\n",
              "    </tr>\n",
              "    <tr>\n",
              "      <th>29</th>\n",
              "      <td>III-29</td>\n",
              "      <td>3.000000</td>\n",
              "      <td>2.333333</td>\n",
              "      <td>-0.333333</td>\n",
              "      <td>1.000000</td>\n",
              "      <td>3.000000</td>\n",
              "      <td>2.333333</td>\n",
              "      <td>-1.333333</td>\n",
              "    </tr>\n",
              "    <tr>\n",
              "      <th>30</th>\n",
              "      <td>IV-1</td>\n",
              "      <td>3.000000</td>\n",
              "      <td>2.666667</td>\n",
              "      <td>-1.666667</td>\n",
              "      <td>-1.000000</td>\n",
              "      <td>3.000000</td>\n",
              "      <td>2.666667</td>\n",
              "      <td>1.666667</td>\n",
              "    </tr>\n",
              "    <tr>\n",
              "      <th>31</th>\n",
              "      <td>IV-2</td>\n",
              "      <td>3.000000</td>\n",
              "      <td>2.666667</td>\n",
              "      <td>0.333333</td>\n",
              "      <td>-0.333333</td>\n",
              "      <td>3.000000</td>\n",
              "      <td>3.000000</td>\n",
              "      <td>0.666667</td>\n",
              "    </tr>\n",
              "    <tr>\n",
              "      <th>32</th>\n",
              "      <td>IV-3</td>\n",
              "      <td>2.000000</td>\n",
              "      <td>3.000000</td>\n",
              "      <td>0.000000</td>\n",
              "      <td>2.000000</td>\n",
              "      <td>3.000000</td>\n",
              "      <td>2.666667</td>\n",
              "      <td>0.666667</td>\n",
              "    </tr>\n",
              "    <tr>\n",
              "      <th>33</th>\n",
              "      <td>IV-7</td>\n",
              "      <td>2.000000</td>\n",
              "      <td>1.666667</td>\n",
              "      <td>-1.333333</td>\n",
              "      <td>-1.666667</td>\n",
              "      <td>2.333333</td>\n",
              "      <td>1.666667</td>\n",
              "      <td>0.333333</td>\n",
              "    </tr>\n",
              "    <tr>\n",
              "      <th>34</th>\n",
              "      <td>IV-8</td>\n",
              "      <td>1.000000</td>\n",
              "      <td>3.000000</td>\n",
              "      <td>-1.666667</td>\n",
              "      <td>-1.000000</td>\n",
              "      <td>3.000000</td>\n",
              "      <td>1.000000</td>\n",
              "      <td>1.666667</td>\n",
              "    </tr>\n",
              "    <tr>\n",
              "      <th>35</th>\n",
              "      <td>IV-9</td>\n",
              "      <td>3.000000</td>\n",
              "      <td>2.333333</td>\n",
              "      <td>-1.000000</td>\n",
              "      <td>-1.000000</td>\n",
              "      <td>3.000000</td>\n",
              "      <td>1.333333</td>\n",
              "      <td>1.000000</td>\n",
              "    </tr>\n",
              "    <tr>\n",
              "      <th>36</th>\n",
              "      <td>IV-10</td>\n",
              "      <td>2.000000</td>\n",
              "      <td>2.000000</td>\n",
              "      <td>-1.666667</td>\n",
              "      <td>-1.000000</td>\n",
              "      <td>1.666667</td>\n",
              "      <td>2.000000</td>\n",
              "      <td>0.333333</td>\n",
              "    </tr>\n",
              "    <tr>\n",
              "      <th>37</th>\n",
              "      <td>IV-15</td>\n",
              "      <td>2.000000</td>\n",
              "      <td>2.000000</td>\n",
              "      <td>-3.000000</td>\n",
              "      <td>-3.000000</td>\n",
              "      <td>1.000000</td>\n",
              "      <td>0.333333</td>\n",
              "      <td>0.666667</td>\n",
              "    </tr>\n",
              "    <tr>\n",
              "      <th>38</th>\n",
              "      <td>IV-19</td>\n",
              "      <td>2.666667</td>\n",
              "      <td>2.666667</td>\n",
              "      <td>-3.000000</td>\n",
              "      <td>-3.000000</td>\n",
              "      <td>3.000000</td>\n",
              "      <td>2.000000</td>\n",
              "      <td>-0.666667</td>\n",
              "    </tr>\n",
              "    <tr>\n",
              "      <th>39</th>\n",
              "      <td>IV-21</td>\n",
              "      <td>3.000000</td>\n",
              "      <td>3.000000</td>\n",
              "      <td>-1.666667</td>\n",
              "      <td>-1.333333</td>\n",
              "      <td>1.666667</td>\n",
              "      <td>3.000000</td>\n",
              "      <td>1.333333</td>\n",
              "    </tr>\n",
              "    <tr>\n",
              "      <th>40</th>\n",
              "      <td>IV-22</td>\n",
              "      <td>3.000000</td>\n",
              "      <td>3.000000</td>\n",
              "      <td>1.333333</td>\n",
              "      <td>-0.333333</td>\n",
              "      <td>3.000000</td>\n",
              "      <td>3.000000</td>\n",
              "      <td>0.333333</td>\n",
              "    </tr>\n",
              "  </tbody>\n",
              "</table>\n",
              "</div>"
            ],
            "text/plain": [
              "        id     LCATM     UCATM     LCATU     UCATU    LCASEM    UCASEM  \\\n",
              "0      I-3  2.666667  3.000000  2.333333 -0.666667  2.666667  3.000000   \n",
              "1     I-10  0.666667  2.666667 -2.333333 -2.666667 -1.000000  2.000000   \n",
              "2     I-11  2.333333  0.333333 -2.000000 -2.333333  1.666667  1.000000   \n",
              "3     I-12  3.000000  2.333333 -1.333333 -1.333333  3.000000  2.333333   \n",
              "4     I-14  2.666667  3.000000 -1.666667 -3.000000  3.000000  3.000000   \n",
              "5     I-16  2.666667  2.333333 -1.333333 -0.666667  1.666667  1.666667   \n",
              "6     I-17  3.000000  1.666667 -0.333333  0.666667  1.000000  1.666667   \n",
              "7     I-18  2.333333  2.666667  0.333333  0.333333  1.333333  1.666667   \n",
              "8     I-19  3.000000  3.000000 -1.666667 -2.666667  2.333333  1.333333   \n",
              "9     I-20  2.000000  1.666667 -1.333333 -1.333333  2.666667  1.333333   \n",
              "10    II-4  3.000000  2.000000  1.666667  0.333333  3.000000  3.000000   \n",
              "11    II-6  3.000000  2.333333  2.333333 -1.000000  3.000000  1.666667   \n",
              "12   II-11  2.333333  0.666667  0.333333  0.666667  2.666667  1.333333   \n",
              "13   II-13  2.666667  0.000000 -3.000000 -2.666667  1.000000  0.333333   \n",
              "14   II-14  3.000000  3.000000  2.333333  0.333333  3.000000  3.000000   \n",
              "15   II-15  2.666667  0.333333  1.000000  0.000000  2.666667  2.666667   \n",
              "16   II-17  2.333333  1.666667 -0.666667  0.333333  2.666667  1.333333   \n",
              "17   II-18  3.000000  2.333333 -2.000000  0.000000  2.666667  2.666667   \n",
              "18   II-19  3.000000  1.000000 -3.000000 -3.000000  3.000000  3.000000   \n",
              "19   II-20  2.333333  2.333333  0.000000  0.333333  3.000000  2.333333   \n",
              "20   III-3  2.666667  2.333333 -3.000000 -2.666667  3.000000  2.333333   \n",
              "21   III-5  2.333333 -0.666667 -2.333333  2.333333  3.000000 -0.333333   \n",
              "22  III-17  1.333333  1.000000  2.000000  2.666667  1.333333  1.333333   \n",
              "23  III-18  3.000000  1.666667  0.666667  0.000000  3.000000  0.000000   \n",
              "24  III-22  1.666667  0.333333 -0.333333  0.000000  3.000000  1.666667   \n",
              "25  III-24  3.000000  2.000000  1.000000  0.000000  2.000000  1.000000   \n",
              "26  III-26  3.000000  3.000000 -0.666667 -0.333333  3.000000  1.666667   \n",
              "27  III-27  2.666667  1.000000 -2.333333 -2.666667  2.666667 -1.666667   \n",
              "28  III-28  2.666667  0.666667 -0.333333  0.000000  3.000000  0.000000   \n",
              "29  III-29  3.000000  2.333333 -0.333333  1.000000  3.000000  2.333333   \n",
              "30    IV-1  3.000000  2.666667 -1.666667 -1.000000  3.000000  2.666667   \n",
              "31    IV-2  3.000000  2.666667  0.333333 -0.333333  3.000000  3.000000   \n",
              "32    IV-3  2.000000  3.000000  0.000000  2.000000  3.000000  2.666667   \n",
              "33    IV-7  2.000000  1.666667 -1.333333 -1.666667  2.333333  1.666667   \n",
              "34    IV-8  1.000000  3.000000 -1.666667 -1.000000  3.000000  1.000000   \n",
              "35    IV-9  3.000000  2.333333 -1.000000 -1.000000  3.000000  1.333333   \n",
              "36   IV-10  2.000000  2.000000 -1.666667 -1.000000  1.666667  2.000000   \n",
              "37   IV-15  2.000000  2.000000 -3.000000 -3.000000  1.000000  0.333333   \n",
              "38   IV-19  2.666667  2.666667 -3.000000 -3.000000  3.000000  2.000000   \n",
              "39   IV-21  3.000000  3.000000 -1.666667 -1.333333  1.666667  3.000000   \n",
              "40   IV-22  3.000000  3.000000  1.333333 -0.333333  3.000000  3.000000   \n",
              "\n",
              "      UCASEU  \n",
              "0   1.000000  \n",
              "1  -2.333333  \n",
              "2  -0.666667  \n",
              "3  -0.666667  \n",
              "4  -0.666667  \n",
              "5   0.000000  \n",
              "6   1.000000  \n",
              "7  -0.333333  \n",
              "8   0.000000  \n",
              "9  -1.000000  \n",
              "10 -2.000000  \n",
              "11  1.666667  \n",
              "12 -1.000000  \n",
              "13 -3.000000  \n",
              "14  2.000000  \n",
              "15  1.666667  \n",
              "16  0.333333  \n",
              "17 -2.333333  \n",
              "18 -3.000000  \n",
              "19 -0.333333  \n",
              "20 -1.333333  \n",
              "21 -1.666667  \n",
              "22  1.333333  \n",
              "23 -0.333333  \n",
              "24 -0.333333  \n",
              "25  0.666667  \n",
              "26 -1.666667  \n",
              "27 -3.000000  \n",
              "28 -2.000000  \n",
              "29 -1.333333  \n",
              "30  1.666667  \n",
              "31  0.666667  \n",
              "32  0.666667  \n",
              "33  0.333333  \n",
              "34  1.666667  \n",
              "35  1.000000  \n",
              "36  0.333333  \n",
              "37  0.666667  \n",
              "38 -0.666667  \n",
              "39  1.333333  \n",
              "40  0.333333  "
            ]
          },
          "execution_count": 107,
          "metadata": {},
          "output_type": "execute_result"
        }
      ],
      "source": [
        "informant_compiled"
      ]
    },
    {
      "cell_type": "markdown",
      "id": "ba837733",
      "metadata": {
        "id": "ba837733"
      },
      "source": [
        "## LCATM (Inf)"
      ]
    },
    {
      "cell_type": "code",
      "execution_count": null,
      "id": "983e25eb",
      "metadata": {
        "id": "983e25eb",
        "outputId": "d90483ab-88b2-4828-f461-bd222f0e2bdb"
      },
      "outputs": [
        {
          "data": {
            "text/plain": [
              "count    41.000000\n",
              "mean      2.528455\n",
              "std       0.582025\n",
              "min       0.666667\n",
              "25%       2.333333\n",
              "50%       2.666667\n",
              "75%       3.000000\n",
              "max       3.000000\n",
              "Name: LCATM, dtype: float64"
            ]
          },
          "execution_count": 79,
          "metadata": {},
          "output_type": "execute_result"
        }
      ],
      "source": [
        "informant_compiled['LCATM'].describe()"
      ]
    },
    {
      "cell_type": "code",
      "execution_count": null,
      "id": "c568b038",
      "metadata": {
        "id": "c568b038",
        "outputId": "d8df1990-af4f-4550-c4d4-8d06b5964888"
      },
      "outputs": [
        {
          "data": {
            "text/plain": [
              "Text(0.5, 1.0, 'Distribution of Values for LCATM (Informant-based)')"
            ]
          },
          "execution_count": 97,
          "metadata": {},
          "output_type": "execute_result"
        },
        {
          "data": {
            "image/png": "[encoded data removed]",
            "text/plain": [
              "<Figure size 432x288 with 1 Axes>"
            ]
          },
          "metadata": {
            "needs_background": "light"
          },
          "output_type": "display_data"
        }
      ],
      "source": [
        "plt.hist(informant_compiled['LCATM'])\n",
        "\n",
        "# add labels and title\n",
        "plt.xlim(-3, 3)\n",
        "plt.xlabel('Value')\n",
        "plt.ylabel('Frequency')\n",
        "plt.title('Distribution of Values for LCATM (Informant-based)')"
      ]
    },
    {
      "cell_type": "markdown",
      "id": "5be39641",
      "metadata": {
        "id": "5be39641"
      },
      "source": [
        "## UCATM (Inf)"
      ]
    },
    {
      "cell_type": "code",
      "execution_count": null,
      "id": "d457f356",
      "metadata": {
        "id": "d457f356",
        "outputId": "d0fa0f41-214b-49a9-e8e6-ad368c969797"
      },
      "outputs": [
        {
          "data": {
            "text/plain": [
              "count    41.000000\n",
              "mean      1.951220\n",
              "std       0.981951\n",
              "min      -0.666667\n",
              "25%       1.666667\n",
              "50%       2.333333\n",
              "75%       2.666667\n",
              "max       3.000000\n",
              "Name: UCATM, dtype: float64"
            ]
          },
          "execution_count": 90,
          "metadata": {},
          "output_type": "execute_result"
        }
      ],
      "source": [
        "informant_compiled['UCATM'].describe()"
      ]
    },
    {
      "cell_type": "code",
      "execution_count": null,
      "id": "c0105a27",
      "metadata": {
        "scrolled": true,
        "id": "c0105a27",
        "outputId": "5ce77887-dfef-48e5-fc47-47daa19f9d71"
      },
      "outputs": [
        {
          "data": {
            "text/plain": [
              "Text(0.5, 1.0, 'Distribution of Values for UCATM (Informant-based)')"
            ]
          },
          "execution_count": 96,
          "metadata": {},
          "output_type": "execute_result"
        },
        {
          "data": {
            "image/png": "[encoded data removed]",
            "text/plain": [
              "<Figure size 432x288 with 1 Axes>"
            ]
          },
          "metadata": {
            "needs_background": "light"
          },
          "output_type": "display_data"
        }
      ],
      "source": [
        "plt.hist(informant_compiled['UCATM'])\n",
        "\n",
        "# add labels and title\n",
        "plt.xlim(-3, 3)\n",
        "plt.xlabel('Value')\n",
        "plt.ylabel('Frequency')\n",
        "plt.title('Distribution of Values for UCATM (Informant-based)')"
      ]
    },
    {
      "cell_type": "markdown",
      "id": "f308cfa1",
      "metadata": {
        "id": "f308cfa1"
      },
      "source": [
        "## LCATU (Inf)"
      ]
    },
    {
      "cell_type": "code",
      "execution_count": null,
      "id": "dfe96f3a",
      "metadata": {
        "id": "dfe96f3a",
        "outputId": "bba04919-82c2-482f-8deb-e4a9a1b23ea2"
      },
      "outputs": [
        {
          "data": {
            "text/plain": [
              "count    41.000000\n",
              "mean     -0.715447\n",
              "std       1.597847\n",
              "min      -3.000000\n",
              "25%      -1.666667\n",
              "50%      -1.000000\n",
              "75%       0.333333\n",
              "max       2.333333\n",
              "Name: LCATU, dtype: float64"
            ]
          },
          "execution_count": 93,
          "metadata": {},
          "output_type": "execute_result"
        }
      ],
      "source": [
        "informant_compiled['LCATU'].describe()"
      ]
    },
    {
      "cell_type": "code",
      "execution_count": null,
      "id": "22fa088a",
      "metadata": {
        "scrolled": true,
        "id": "22fa088a",
        "outputId": "16c5a9c0-0b85-4fa3-b63d-7c4bf72de7c9"
      },
      "outputs": [
        {
          "data": {
            "text/plain": [
              "Text(0.5, 1.0, 'Distribution of Values for LCATU (Informant-based)')"
            ]
          },
          "execution_count": 95,
          "metadata": {},
          "output_type": "execute_result"
        },
        {
          "data": {
            "image/png": "[encoded data removed]",
            "text/plain": [
              "<Figure size 432x288 with 1 Axes>"
            ]
          },
          "metadata": {
            "needs_background": "light"
          },
          "output_type": "display_data"
        }
      ],
      "source": [
        "plt.hist(informant_compiled['LCATU'])\n",
        "\n",
        "# add labels and title\n",
        "plt.xlim(-3, 3)\n",
        "plt.xlabel('Value')\n",
        "plt.ylabel('Frequency')\n",
        "plt.title('Distribution of Values for LCATU (Informant-based)')"
      ]
    },
    {
      "cell_type": "markdown",
      "id": "94b83b6c",
      "metadata": {
        "id": "94b83b6c"
      },
      "source": [
        "## UCATU (inf)"
      ]
    },
    {
      "cell_type": "code",
      "execution_count": null,
      "id": "df86ddda",
      "metadata": {
        "scrolled": true,
        "id": "df86ddda",
        "outputId": "d7d71f8c-e5d9-464d-d2e5-6d051713d0c6"
      },
      "outputs": [
        {
          "data": {
            "text/plain": [
              "count    41.000000\n",
              "mean     -0.723577\n",
              "std       1.490530\n",
              "min      -3.000000\n",
              "25%      -1.666667\n",
              "50%      -0.666667\n",
              "75%       0.333333\n",
              "max       2.666667\n",
              "Name: UCATU, dtype: float64"
            ]
          },
          "execution_count": 108,
          "metadata": {},
          "output_type": "execute_result"
        }
      ],
      "source": [
        "informant_compiled['UCATU'].describe()"
      ]
    },
    {
      "cell_type": "code",
      "execution_count": null,
      "id": "aa8fef4e",
      "metadata": {
        "scrolled": false,
        "id": "aa8fef4e",
        "outputId": "c0254266-8b8c-4ced-deec-0a5641b30b07"
      },
      "outputs": [
        {
          "data": {
            "text/plain": [
              "Text(0.5, 1.0, 'Distribution of Values for UCATU (Informant-based)')"
            ]
          },
          "execution_count": 109,
          "metadata": {},
          "output_type": "execute_result"
        },
        {
          "data": {
            "image/png": "[encoded data removed]",
            "text/plain": [
              "<Figure size 432x288 with 1 Axes>"
            ]
          },
          "metadata": {
            "needs_background": "light"
          },
          "output_type": "display_data"
        }
      ],
      "source": [
        "plt.hist(informant_compiled['UCATU'])\n",
        "\n",
        "# add labels and title\n",
        "plt.xlim(-3, 3)\n",
        "plt.xlabel('Value')\n",
        "plt.ylabel('Frequency')\n",
        "plt.title('Distribution of Values for UCATU (Informant-based)')"
      ]
    },
    {
      "cell_type": "markdown",
      "id": "1ca9a999",
      "metadata": {
        "id": "1ca9a999"
      },
      "source": [
        "## Combined Category Results (Informant-Based)"
      ]
    },
    {
      "cell_type": "code",
      "execution_count": null,
      "id": "7d2a2eb7",
      "metadata": {
        "id": "7d2a2eb7",
        "outputId": "60fa96a0-01a2-445d-e883-f06f0284efaf"
      },
      "outputs": [
        {
          "data": {
            "text/plain": [
              "Text(0, 0.5, 'Scores')"
            ]
          },
          "execution_count": 124,
          "metadata": {},
          "output_type": "execute_result"
        },
        {
          "data": {
            "image/png": "[encoded data removed]",
            "text/plain": [
              "<Figure size 432x288 with 1 Axes>"
            ]
          },
          "metadata": {
            "needs_background": "light"
          },
          "output_type": "display_data"
        }
      ],
      "source": [
        "cols_to_plot = [\"LCATM\", \"UCATM\", \"LCATU\", \"UCATU\"]\n",
        "\n",
        "informant_compiled[cols_to_plot].boxplot()\n",
        "\n",
        "plt.title('4 sentence types of unlike category coordination')\n",
        "plt.xlabel('Types')\n",
        "plt.ylabel('Scores')"
      ]
    },
    {
      "cell_type": "markdown",
      "id": "e97dfa7d",
      "metadata": {
        "id": "e97dfa7d"
      },
      "source": [
        "## Basic Inferential Statistics for Unlike Category Coordination"
      ]
    },
    {
      "cell_type": "markdown",
      "id": "1c131cc2",
      "metadata": {
        "id": "1c131cc2"
      },
      "source": [
        "### LCATM vs. UCATM"
      ]
    },
    {
      "cell_type": "markdown",
      "id": "e8eca071",
      "metadata": {
        "id": "e8eca071"
      },
      "source": [
        "#### Checking for normality\n",
        "\n",
        "By using Shapiro-Wilk test and Q-Q plot we can check whether the data is normally distributed"
      ]
    },
    {
      "cell_type": "code",
      "execution_count": null,
      "id": "d6a29c2e",
      "metadata": {
        "id": "d6a29c2e",
        "outputId": "efbc2592-97ca-45b0-bad1-acbe4aad960f"
      },
      "outputs": [
        {
          "name": "stdout",
          "output_type": "stream",
          "text": [
            "Shapiro-Wilk Test for Normality - LCATM: ShapiroResult(statistic=0.7932639122009277, pvalue=3.9575729715579655e-06)\n",
            "Shapiro-Wilk Test for Normality - UCATM: ShapiroResult(statistic=0.8875293731689453, pvalue=0.0007250687922351062)\n"
          ]
        }
      ],
      "source": [
        "print(f\"Shapiro-Wilk Test for Normality - LCATM: {stats.shapiro(informant_compiled['LCATM'])}\")\n",
        "print(f\"Shapiro-Wilk Test for Normality - UCATM: {stats.shapiro(informant_compiled['UCATM'])}\")"
      ]
    },
    {
      "cell_type": "code",
      "execution_count": null,
      "id": "536dac53",
      "metadata": {
        "scrolled": false,
        "id": "536dac53",
        "outputId": "51ff10ac-3dee-409c-fb5d-096e893652d5"
      },
      "outputs": [
        {
          "data": {
            "text/plain": [
              "Text(0.5, 1.0, 'LCATM Q-Q Plot')"
            ]
          },
          "execution_count": 148,
          "metadata": {},
          "output_type": "execute_result"
        },
        {
          "data": {
            "image/png": "[encoded data removed]",
            "text/plain": [
              "<Figure size 432x288 with 1 Axes>"
            ]
          },
          "metadata": {
            "needs_background": "light"
          },
          "output_type": "display_data"
        }
      ],
      "source": [
        "stats.probplot(informant_compiled['LCATM'], dist=\"norm\", plot=plt)\n",
        "plt.title(\"LCATM Q-Q Plot\")"
      ]
    },
    {
      "cell_type": "code",
      "execution_count": null,
      "id": "2d64418c",
      "metadata": {
        "id": "2d64418c",
        "outputId": "247630a3-4705-4ab2-b521-6e6ea15d915f"
      },
      "outputs": [
        {
          "data": {
            "text/plain": [
              "Text(0.5, 1.0, 'UCATM Q-Q Plot')"
            ]
          },
          "execution_count": 149,
          "metadata": {},
          "output_type": "execute_result"
        },
        {
          "data": {
            "image/png": "[encoded data removed]",
            "text/plain": [
              "<Figure size 432x288 with 1 Axes>"
            ]
          },
          "metadata": {
            "needs_background": "light"
          },
          "output_type": "display_data"
        }
      ],
      "source": [
        "stats.probplot(informant_compiled['UCATM'], dist=\"norm\", plot=plt)\n",
        "plt.title(\"UCATM Q-Q Plot\")"
      ]
    },
    {
      "cell_type": "markdown",
      "id": "1e21394b",
      "metadata": {
        "id": "1e21394b"
      },
      "source": [
        "#### Test\n",
        "\n",
        "Since the normality assumptions are violated Wilcoxon signed-rank test is the best option (compared to paired sample t-test)"
      ]
    },
    {
      "cell_type": "code",
      "execution_count": null,
      "id": "db924b1b",
      "metadata": {
        "id": "db924b1b",
        "outputId": "2b6f46bd-e781-4069-9e9d-9da562453876"
      },
      "outputs": [
        {
          "name": "stdout",
          "output_type": "stream",
          "text": [
            "Paired samples t-test results:\n",
            "t-statistic: 3.46320861953508\n",
            "p-value: 0.0012860924241169522\n"
          ]
        }
      ],
      "source": [
        "t_stat, p_val = stats.ttest_rel(informant_compiled['LCATM'], informant_compiled['UCATM'])\n",
        "\n",
        "# Print the results\n",
        "print('Paired samples t-test results:')\n",
        "print('t-statistic:', t_stat)\n",
        "print('p-value:', p_val)"
      ]
    },
    {
      "cell_type": "code",
      "execution_count": null,
      "id": "744ac9e3",
      "metadata": {
        "id": "744ac9e3",
        "outputId": "43f2078f-009d-47e7-f1da-6a180e8c227b"
      },
      "outputs": [
        {
          "name": "stdout",
          "output_type": "stream",
          "text": [
            "Wilcoxon signed-rank results:\n",
            "Wilcoxon signed-rank test statistic: 91.0\n",
            "p-value: 0.0011979008388967054\n"
          ]
        }
      ],
      "source": [
        "from scipy.stats import wilcoxon\n",
        "\n",
        "stat, pval = wilcoxon(informant_compiled['LCATM'], informant_compiled['UCATM'])\n",
        "\n",
        "# print the test results\n",
        "print('Wilcoxon signed-rank results:')\n",
        "print(f\"Wilcoxon signed-rank test statistic: {stat}\")\n",
        "print(f\"p-value: {pval}\")"
      ]
    },
    {
      "cell_type": "markdown",
      "id": "42adb4ce",
      "metadata": {
        "id": "42adb4ce"
      },
      "source": [
        "### Like vs. Unlike Functions"
      ]
    },
    {
      "cell_type": "code",
      "execution_count": null,
      "id": "5e8bb996",
      "metadata": {
        "id": "5e8bb996"
      },
      "outputs": [],
      "source": [
        "unlike_functions_cat = pd.concat([informant_compiled['LCATU'], informant_compiled['UCATU']]).reset_index(drop=True)\n",
        "like_functions_cat = pd.concat([informant_compiled['LCATM'], informant_compiled['UCATM']]).reset_index(drop=True)"
      ]
    },
    {
      "cell_type": "markdown",
      "id": "16c03585",
      "metadata": {
        "id": "16c03585"
      },
      "source": [
        "#### Checking for normality"
      ]
    },
    {
      "cell_type": "code",
      "execution_count": null,
      "id": "494249d0",
      "metadata": {
        "id": "494249d0",
        "outputId": "3d53cd09-8b08-4280-9c47-04be495ec64d"
      },
      "outputs": [
        {
          "name": "stdout",
          "output_type": "stream",
          "text": [
            "Shapiro-Wilk Test for Normality - Unlike Functions: ShapiroResult(statistic=0.957204282283783, pvalue=0.008002446964383125)\n",
            "Shapiro-Wilk Test for Normality - Like Functions: ShapiroResult(statistic=0.8276706337928772, pvalue=2.3124176351529968e-08)\n"
          ]
        }
      ],
      "source": [
        "print(f\"Shapiro-Wilk Test for Normality - Unlike Functions: {stats.shapiro(unlike_functions_cat)}\")\n",
        "print(f\"Shapiro-Wilk Test for Normality - Like Functions: {stats.shapiro(like_functions_cat)}\")\n"
      ]
    },
    {
      "cell_type": "code",
      "execution_count": null,
      "id": "3146fe1c",
      "metadata": {
        "scrolled": true,
        "id": "3146fe1c",
        "outputId": "38f80d6f-ecac-4b8c-ac72-948a16363f1e"
      },
      "outputs": [
        {
          "data": {
            "text/plain": [
              "Text(0.5, 1.0, 'Unlike Functions Q-Q Plot')"
            ]
          },
          "execution_count": 137,
          "metadata": {},
          "output_type": "execute_result"
        },
        {
          "data": {
            "image/png": "[encoded data removed]",
            "text/plain": [
              "<Figure size 432x288 with 1 Axes>"
            ]
          },
          "metadata": {
            "needs_background": "light"
          },
          "output_type": "display_data"
        }
      ],
      "source": [
        "stats.probplot(unlike_functions_cat, dist=\"norm\", plot=plt)\n",
        "plt.title(\"Unlike Functions Q-Q Plot\")"
      ]
    },
    {
      "cell_type": "code",
      "execution_count": null,
      "id": "233b4946",
      "metadata": {
        "scrolled": true,
        "id": "233b4946",
        "outputId": "96a7af1c-519f-4d8f-e202-4d422304ccec"
      },
      "outputs": [
        {
          "data": {
            "text/plain": [
              "Text(0.5, 1.0, 'Like Functions Q-Q Plot')"
            ]
          },
          "execution_count": 138,
          "metadata": {},
          "output_type": "execute_result"
        },
        {
          "data": {
            "image/png": "[encoded data removed]",
            "text/plain": [
              "<Figure size 432x288 with 1 Axes>"
            ]
          },
          "metadata": {
            "needs_background": "light"
          },
          "output_type": "display_data"
        }
      ],
      "source": [
        "stats.probplot(like_functions_cat, dist=\"norm\", plot=plt)\n",
        "plt.title(\"Like Functions Q-Q Plot\")"
      ]
    },
    {
      "cell_type": "markdown",
      "id": "69ff5a6b",
      "metadata": {
        "id": "69ff5a6b"
      },
      "source": [
        "#### Test\n",
        "\n",
        "Since the normality assumptions are violated Wilcoxon signed-rank test is the best option (compared to paired sample t-test)"
      ]
    },
    {
      "cell_type": "code",
      "execution_count": null,
      "id": "495a6f22",
      "metadata": {
        "id": "495a6f22",
        "outputId": "58642566-7f3d-479f-c759-c179198d2f52"
      },
      "outputs": [
        {
          "name": "stdout",
          "output_type": "stream",
          "text": [
            "Paired samples t-test results:\n",
            "t-statistic: 15.091006684731829\n",
            "p-value: 2.990952814615057e-25\n"
          ]
        }
      ],
      "source": [
        "t_stat, p_val = stats.ttest_rel(like_functions_cat, unlike_functions_cat)\n",
        "\n",
        "# Print the results\n",
        "print('Paired samples t-test results:')\n",
        "print('t-statistic:', t_stat)\n",
        "print('p-value:', p_val)"
      ]
    },
    {
      "cell_type": "code",
      "execution_count": null,
      "id": "b90c23d4",
      "metadata": {
        "id": "b90c23d4",
        "outputId": "3d99510a-4f7e-406e-b094-0606b92c34ac"
      },
      "outputs": [
        {
          "name": "stdout",
          "output_type": "stream",
          "text": [
            "Wilcoxon signed-rank results:\n",
            "Wilcoxon signed-rank test statistic: 58.0\n",
            "p-value: 4.417748755552216e-14\n"
          ]
        }
      ],
      "source": [
        "stat, pval = wilcoxon(like_functions_cat, unlike_functions_cat)\n",
        "\n",
        "# print the test results\n",
        "print('Wilcoxon signed-rank results:')\n",
        "print(f\"Wilcoxon signed-rank test statistic: {stat}\")\n",
        "print(f\"p-value: {pval}\")"
      ]
    }
  ],
  "metadata": {
    "kernelspec": {
      "display_name": "Python 3 (ipykernel)",
      "language": "python",
      "name": "python3"
    },
    "language_info": {
      "codemirror_mode": {
        "name": "ipython",
        "version": 3
      },
      "file_extension": ".py",
      "mimetype": "text/x-python",
      "name": "python",
      "nbconvert_exporter": "python",
      "pygments_lexer": "ipython3",
      "version": "3.10.6"
    },
    "colab": {
      "provenance": []
    }
  },
  "nbformat": 4,
  "nbformat_minor": 5
}