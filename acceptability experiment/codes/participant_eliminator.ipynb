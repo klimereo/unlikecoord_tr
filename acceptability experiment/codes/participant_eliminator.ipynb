{
  "cells": [
    {
      "cell_type": "markdown",
      "id": "cc7ba0c4",
      "metadata": {
        "id": "cc7ba0c4"
      },
      "source": [
        "# Importing Libraries and Data"
      ]
    },
    {
      "cell_type": "code",
      "execution_count": null,
      "id": "2de10c02",
      "metadata": {
        "id": "2de10c02"
      },
      "outputs": [],
      "source": [
        "import pandas as pd\n",
        "import matplotlib.pyplot as plt\n",
        "import numpy as np\n",
        "from scipy import stats"
      ]
    },
    {
      "cell_type": "code",
      "execution_count": null,
      "id": "ea659f23",
      "metadata": {
        "id": "ea659f23"
      },
      "outputs": [],
      "source": [
        "anket_1 = pd.read_csv('Anket1_preprocessed.csv')\n",
        "anket_2 = pd.read_csv('Anket2_preprocessed.csv')\n",
        "anket_3 = pd.read_csv('Anket3_preprocessed.csv')\n",
        "anket_4 = pd.read_csv('Anket4_preprocessed.csv')"
      ]
    },
    {
      "cell_type": "markdown",
      "id": "a51de6ac",
      "metadata": {
        "id": "a51de6ac"
      },
      "source": [
        "## Data extracting function"
      ]
    },
    {
      "cell_type": "code",
      "execution_count": null,
      "id": "474d4b92",
      "metadata": {
        "id": "474d4b92"
      },
      "outputs": [],
      "source": [
        "def extract_values(dataframe, condition):\n",
        "    values_list = []\n",
        "    for index, row in dataframe.iterrows():\n",
        "        for col in dataframe.columns:\n",
        "            if condition in col:\n",
        "                if col.startswith(condition):\n",
        "                    values_list.append(row[col])\n",
        "    return values_list"
      ]
    },
    {
      "cell_type": "markdown",
      "id": "d21ab4e0",
      "metadata": {
        "id": "d21ab4e0"
      },
      "source": [
        "# Fillers"
      ]
    },
    {
      "cell_type": "markdown",
      "id": "72535d40",
      "metadata": {
        "id": "72535d40"
      },
      "source": [
        "## Grammatical Fillers (Score-based)"
      ]
    },
    {
      "cell_type": "code",
      "execution_count": null,
      "id": "78ebb008",
      "metadata": {
        "id": "78ebb008"
      },
      "outputs": [],
      "source": [
        "anket1_ctgram_scores = extract_values(anket_1, \"CTGRAM\")\n",
        "anket2_ctgram_scores = extract_values(anket_2, \"CTGRAM\")\n",
        "anket3_ctgram_scores = extract_values(anket_3, \"CTGRAM\")\n",
        "anket4_ctgram_scores = extract_values(anket_4, \"CTGRAM\")"
      ]
    },
    {
      "cell_type": "code",
      "execution_count": null,
      "id": "9398b7eb",
      "metadata": {
        "id": "9398b7eb"
      },
      "outputs": [],
      "source": [
        "total_ctgram_scores = anket1_ctgram_scores + anket2_ctgram_scores + anket3_ctgram_scores + anket4_ctgram_scores\n",
        "total_ctgram_scores = pd.Series(total_ctgram_scores)"
      ]
    },
    {
      "cell_type": "code",
      "execution_count": null,
      "id": "b4841c5a",
      "metadata": {
        "scrolled": true,
        "colab": {
          "base_uri": "https://localhost:8080/"
        },
        "id": "b4841c5a",
        "outputId": "1093a698-8ab7-4f52-8c54-4ccf04eff890"
      },
      "outputs": [
        {
          "output_type": "execute_result",
          "data": {
            "text/plain": [
              "count    715.000000\n",
              "mean       1.860140\n",
              "std        1.826514\n",
              "min       -3.000000\n",
              "25%        1.000000\n",
              "50%        3.000000\n",
              "75%        3.000000\n",
              "max        3.000000\n",
              "dtype: float64"
            ]
          },
          "metadata": {},
          "execution_count": 7
        }
      ],
      "source": [
        "total_ctgram_scores.describe()"
      ]
    },
    {
      "cell_type": "code",
      "execution_count": null,
      "id": "28b8bc28",
      "metadata": {
        "scrolled": true,
        "colab": {
          "base_uri": "https://localhost:8080/",
          "height": 489
        },
        "id": "28b8bc28",
        "outputId": "c3283de3-f819-4875-86c4-f9ac05133008"
      },
      "outputs": [
        {
          "output_type": "execute_result",
          "data": {
            "text/plain": [
              "Text(0.5, 1.0, 'Distribution of Values for Grammatical Filler Sentences')"
            ]
          },
          "metadata": {},
          "execution_count": 8
        },
        {
          "output_type": "display_data",
          "data": {
            "text/plain": [
              "<Figure size 640x480 with 1 Axes>"
            ],
            "image/png": "[encoded data removed]"
          },
          "metadata": {}
        }
      ],
      "source": [
        "plt.hist(total_ctgram_scores)\n",
        "\n",
        "# add labels and title\n",
        "plt.xlim(-3, 3)\n",
        "plt.xlabel('Value')\n",
        "plt.ylabel('Frequency')\n",
        "plt.title('Distribution of Values for Grammatical Filler Sentences')"
      ]
    },
    {
      "cell_type": "markdown",
      "id": "7206ea40",
      "metadata": {
        "id": "7206ea40"
      },
      "source": [
        "## Ungrammatical Fillers (Score-based)"
      ]
    },
    {
      "cell_type": "code",
      "execution_count": null,
      "id": "cd826299",
      "metadata": {
        "id": "cd826299"
      },
      "outputs": [],
      "source": [
        "anket1_ctungram_scores = extract_values(anket_1, \"CTUNGRAM\")\n",
        "anket2_ctungram_scores = extract_values(anket_2, \"CTUNGRAM\")\n",
        "anket3_ctungram_scores = extract_values(anket_3, \"CTUNGRAM\")\n",
        "anket4_ctungram_scores = extract_values(anket_4, \"CTUNGRAM\")"
      ]
    },
    {
      "cell_type": "code",
      "execution_count": null,
      "id": "f771db5b",
      "metadata": {
        "scrolled": true,
        "id": "f771db5b"
      },
      "outputs": [],
      "source": [
        "total_ctungram_scores = anket1_ctungram_scores + anket2_ctungram_scores + anket3_ctungram_scores + anket4_ctungram_scores\n",
        "total_ctungram_scores = pd.Series(total_ctungram_scores)"
      ]
    },
    {
      "cell_type": "code",
      "execution_count": null,
      "id": "cd97d5df",
      "metadata": {
        "scrolled": false,
        "colab": {
          "base_uri": "https://localhost:8080/"
        },
        "id": "cd97d5df",
        "outputId": "71e5ac6b-8ac0-4bc3-b31b-afcd601596bd"
      },
      "outputs": [
        {
          "output_type": "execute_result",
          "data": {
            "text/plain": [
              "count    715.000000\n",
              "mean      -1.595804\n",
              "std        1.710974\n",
              "min       -3.000000\n",
              "25%       -3.000000\n",
              "50%       -2.000000\n",
              "75%       -1.000000\n",
              "max        3.000000\n",
              "dtype: float64"
            ]
          },
          "metadata": {},
          "execution_count": 11
        }
      ],
      "source": [
        "total_ctungram_scores.describe()"
      ]
    },
    {
      "cell_type": "code",
      "execution_count": null,
      "id": "96200f50",
      "metadata": {
        "scrolled": true,
        "colab": {
          "base_uri": "https://localhost:8080/",
          "height": 489
        },
        "id": "96200f50",
        "outputId": "c049ea8d-cf89-4675-d439-33a9435921e3"
      },
      "outputs": [
        {
          "output_type": "execute_result",
          "data": {
            "text/plain": [
              "Text(0.5, 1.0, 'Distribution of Values for Ungrammatical Filler Sentences')"
            ]
          },
          "metadata": {},
          "execution_count": 12
        },
        {
          "output_type": "display_data",
          "data": {
            "text/plain": [
              "<Figure size 640x480 with 1 Axes>"
            ],
            "image/png": "[encoded data removed]"
          },
          "metadata": {}
        }
      ],
      "source": [
        "plt.hist(total_ctungram_scores)\n",
        "\n",
        "plt.xlim(-3, 3)\n",
        "plt.xlabel('Value')\n",
        "plt.ylabel('Frequency')\n",
        "plt.title('Distribution of Values for Ungrammatical Filler Sentences')"
      ]
    },
    {
      "cell_type": "markdown",
      "id": "195c561a",
      "metadata": {
        "id": "195c561a"
      },
      "source": [
        "## Grammatical Fillers (Informant-based)"
      ]
    },
    {
      "cell_type": "code",
      "execution_count": null,
      "id": "218623ce",
      "metadata": {
        "id": "218623ce"
      },
      "outputs": [],
      "source": [
        "anket1_ctgram_p_scores = extract_values(anket_1, \"ctgram_mean\")\n",
        "anket2_ctgram_p_scores = extract_values(anket_2, \"ctgram_mean\")\n",
        "anket3_ctgram_p_scores = extract_values(anket_3, \"ctgram_mean\")\n",
        "anket4_ctgram_p_scores = extract_values(anket_4, \"ctgram_mean\")"
      ]
    },
    {
      "cell_type": "code",
      "execution_count": null,
      "id": "3b4127a4",
      "metadata": {
        "id": "3b4127a4"
      },
      "outputs": [],
      "source": [
        "total_ctgram_p_scores = anket1_ctgram_p_scores + anket2_ctgram_p_scores + anket3_ctgram_p_scores + anket4_ctgram_p_scores\n",
        "total_ctgram_p_scores = pd.Series(total_ctgram_p_scores)"
      ]
    },
    {
      "cell_type": "code",
      "execution_count": null,
      "id": "0c403326",
      "metadata": {
        "scrolled": true,
        "colab": {
          "base_uri": "https://localhost:8080/"
        },
        "id": "0c403326",
        "outputId": "cc266813-2df1-48ee-ccba-7baa4ee9e909"
      },
      "outputs": [
        {
          "output_type": "execute_result",
          "data": {
            "text/plain": [
              "count    65.000000\n",
              "mean      1.860140\n",
              "std       1.047685\n",
              "min      -3.000000\n",
              "25%       1.545455\n",
              "50%       2.181818\n",
              "75%       2.454545\n",
              "max       3.000000\n",
              "dtype: float64"
            ]
          },
          "metadata": {},
          "execution_count": 15
        }
      ],
      "source": [
        "total_ctgram_p_scores.describe()"
      ]
    },
    {
      "cell_type": "code",
      "execution_count": null,
      "id": "1fffc15f",
      "metadata": {
        "scrolled": true,
        "colab": {
          "base_uri": "https://localhost:8080/",
          "height": 489
        },
        "id": "1fffc15f",
        "outputId": "38027d7d-d009-4e4c-b024-e8286bb89edc"
      },
      "outputs": [
        {
          "output_type": "execute_result",
          "data": {
            "text/plain": [
              "Text(0.5, 1.0, 'Distribution of Average Values for Grammatical (Informant Based) Filler Sentences')"
            ]
          },
          "metadata": {},
          "execution_count": 16
        },
        {
          "output_type": "display_data",
          "data": {
            "text/plain": [
              "<Figure size 640x480 with 1 Axes>"
            ],
            "image/png": "[encoded data removed]"
          },
          "metadata": {}
        }
      ],
      "source": [
        "plt.hist(total_ctgram_p_scores)\n",
        "\n",
        "plt.xlim(-3, 3)\n",
        "plt.xlabel('Value')\n",
        "plt.ylabel('Frequency')\n",
        "plt.title('Distribution of Average Values for Grammatical (Informant Based) Filler Sentences')"
      ]
    },
    {
      "cell_type": "markdown",
      "id": "bd7dec97",
      "metadata": {
        "id": "bd7dec97"
      },
      "source": [
        "## Ungrammatical Fillers (Informant-based)"
      ]
    },
    {
      "cell_type": "code",
      "execution_count": null,
      "id": "0270e734",
      "metadata": {
        "id": "0270e734"
      },
      "outputs": [],
      "source": [
        "anket1_ctungram_p_scores = extract_values(anket_1, \"ctungram_mean\")\n",
        "anket2_ctungram_p_scores = extract_values(anket_2, \"ctungram_mean\")\n",
        "anket3_ctungram_p_scores = extract_values(anket_3, \"ctungram_mean\")\n",
        "anket4_ctungram_p_scores = extract_values(anket_4, \"ctungram_mean\")"
      ]
    },
    {
      "cell_type": "code",
      "execution_count": null,
      "id": "a57ec6ea",
      "metadata": {
        "id": "a57ec6ea"
      },
      "outputs": [],
      "source": [
        "total_ctungram_p_scores = anket1_ctungram_p_scores + anket2_ctungram_p_scores + anket3_ctungram_p_scores + anket4_ctungram_p_scores\n",
        "total_ctungram_p_scores = pd.Series(total_ctungram_p_scores)"
      ]
    },
    {
      "cell_type": "code",
      "execution_count": null,
      "id": "d4f12e3c",
      "metadata": {
        "scrolled": false,
        "colab": {
          "base_uri": "https://localhost:8080/"
        },
        "id": "d4f12e3c",
        "outputId": "a58b54e1-d5ad-4b3d-e311-6dbe0475b3e4"
      },
      "outputs": [
        {
          "output_type": "execute_result",
          "data": {
            "text/plain": [
              "count    65.000000\n",
              "mean     -1.595804\n",
              "std       1.164097\n",
              "min      -3.000000\n",
              "25%      -2.454545\n",
              "50%      -1.909091\n",
              "75%      -1.090909\n",
              "max       1.454545\n",
              "dtype: float64"
            ]
          },
          "metadata": {},
          "execution_count": 19
        }
      ],
      "source": [
        "total_ctungram_p_scores.describe()"
      ]
    },
    {
      "cell_type": "code",
      "execution_count": null,
      "id": "0f4084e4",
      "metadata": {
        "colab": {
          "base_uri": "https://localhost:8080/",
          "height": 489
        },
        "id": "0f4084e4",
        "outputId": "e20610f7-803a-43f6-e652-3e9ccaddcd22"
      },
      "outputs": [
        {
          "output_type": "execute_result",
          "data": {
            "text/plain": [
              "Text(0.5, 1.0, 'Distribution of Average Values for Ungrammatical (Informant Based) Filler Sentences')"
            ]
          },
          "metadata": {},
          "execution_count": 20
        },
        {
          "output_type": "display_data",
          "data": {
            "text/plain": [
              "<Figure size 640x480 with 1 Axes>"
            ],
            "image/png": "[encoded data removed]"
          },
          "metadata": {}
        }
      ],
      "source": [
        "plt.hist(total_ctungram_p_scores)\n",
        "\n",
        "plt.xlim(-3, 3)\n",
        "plt.xlabel('Value')\n",
        "plt.ylabel('Frequency')\n",
        "plt.title('Distribution of Average Values for Ungrammatical (Informant Based) Filler Sentences')"
      ]
    },
    {
      "cell_type": "markdown",
      "id": "6dcb23a4",
      "metadata": {
        "id": "6dcb23a4"
      },
      "source": [
        "# Eliminating Outliers/Non-compliant Participants"
      ]
    },
    {
      "cell_type": "code",
      "execution_count": null,
      "id": "347c1717",
      "metadata": {
        "id": "347c1717"
      },
      "outputs": [],
      "source": [
        "iqr_multiplier = 1.6\n",
        "\n",
        "# Calculate IQR for each dataset using Q3 and Q1\n",
        "iqr_ctungram = total_ctungram_p_scores.quantile(0.75) - total_ctungram_p_scores.quantile(0.25)\n",
        "iqr_ctgram = total_ctgram_p_scores.quantile(0.75) - total_ctgram_p_scores.quantile(0.25)\n",
        "\n",
        "# Calculate thresholds using IQR multiplier and Q3/Q1\n",
        "UT_ung = total_ctungram_p_scores.quantile(0.25) + (iqr_multiplier * iqr_ctungram)\n",
        "LT_ung = total_ctungram_p_scores.quantile(0.75) - (iqr_multiplier * iqr_ctungram)\n",
        "\n",
        "UT_g = total_ctgram_p_scores.quantile(0.25) + (iqr_multiplier * iqr_ctgram)\n",
        "LT_g = total_ctgram_p_scores.quantile(0.75) - (iqr_multiplier * iqr_ctgram)"
      ]
    },
    {
      "cell_type": "code",
      "source": [
        "print(\"UT_ung:\", UT_ung)\n",
        "print(\"LT_ung:\", LT_ung)\n",
        "\n",
        "print(\"UT_g:\", UT_g)\n",
        "print(\"LT_g:\", LT_g)\n",
        "\n",
        "ctgram_threshold = LT_g\n",
        "ctungram_threshold = UT_ung"
      ],
      "metadata": {
        "colab": {
          "base_uri": "https://localhost:8080/"
        },
        "id": "fhuEkiVucUPu",
        "outputId": "c668d187-12c8-43fe-a097-6d585a53d858"
      },
      "id": "fhuEkiVucUPu",
      "execution_count": null,
      "outputs": [
        {
          "output_type": "stream",
          "name": "stdout",
          "text": [
            "UT_ung: -0.2727272727272725\n",
            "LT_ung: -3.272727272727273\n",
            "UT_g: 3.0\n",
            "LT_g: 0.9999999999999998\n"
          ]
        }
      ]
    },
    {
      "cell_type": "code",
      "execution_count": null,
      "id": "f0f4d001",
      "metadata": {
        "id": "f0f4d001"
      },
      "outputs": [],
      "source": [
        "def eliminate_outliers(df, ctgram_threshold, ctungram_threshold):\n",
        "    \"\"\"\n",
        "    Removes rows from the dataframe that have ctgram_mean lower than ctgram_threshold\n",
        "    or ctungram_mean higher than ctungram_threshold.\n",
        "\n",
        "    \"\"\"\n",
        "    cleaned_df = df.copy()\n",
        "\n",
        "    removed_rows = 0\n",
        "\n",
        "    for i, row in cleaned_df.iterrows():\n",
        "        if row['ctgram_mean'] < ctgram_threshold:\n",
        "            print(f\"Removed participant's ID:  {row['id']}\")\n",
        "            print(f\"Removal reason: ctgram_mean below threshold.\")\n",
        "            print(\"*************************************************\")\n",
        "\n",
        "            cleaned_df.drop(i, inplace=True)\n",
        "            removed_rows += 1\n",
        "\n",
        "        elif row['ctungram_mean'] > ctungram_threshold:\n",
        "            print(f\"Removed participant's ID:  {row['id']}\")\n",
        "            print(f\"Removal reason: ctungram_mean above threshold.\")\n",
        "            print(\"*************************************************\")\n",
        "\n",
        "            cleaned_df.drop(i, inplace=True)\n",
        "\n",
        "            removed_rows += 1\n",
        "\n",
        "    print(f\"The number of participants eliminated:  {removed_rows}\")\n",
        "    return cleaned_df"
      ]
    },
    {
      "cell_type": "code",
      "execution_count": null,
      "id": "8406a20c",
      "metadata": {
        "colab": {
          "base_uri": "https://localhost:8080/"
        },
        "id": "8406a20c",
        "outputId": "eee63dc0-8f56-45ef-e49b-b01b9236b2b8"
      },
      "outputs": [
        {
          "output_type": "stream",
          "name": "stdout",
          "text": [
            "Removed participant's ID:  5\n",
            "Removal reason: ctgram_mean below threshold.\n",
            "*************************************************\n",
            "Removed participant's ID:  7\n",
            "Removal reason: ctungram_mean above threshold.\n",
            "*************************************************\n",
            "Removed participant's ID:  13\n",
            "Removal reason: ctungram_mean above threshold.\n",
            "*************************************************\n",
            "Removed participant's ID:  15\n",
            "Removal reason: ctgram_mean below threshold.\n",
            "*************************************************\n",
            "The number of participants eliminated:  4\n"
          ]
        }
      ],
      "source": [
        "cleaned_anket1 = eliminate_outliers(anket_1,\n",
        "                                    ctgram_threshold = ctgram_threshold,\n",
        "                                    ctungram_threshold = ctungram_threshold)"
      ]
    },
    {
      "cell_type": "code",
      "execution_count": null,
      "id": "c669451b",
      "metadata": {
        "scrolled": false,
        "colab": {
          "base_uri": "https://localhost:8080/"
        },
        "id": "c669451b",
        "outputId": "210d91db-5429-4611-cf06-bdda7f3e9148"
      },
      "outputs": [
        {
          "output_type": "stream",
          "name": "stdout",
          "text": [
            "Removed participant's ID:  1\n",
            "Removal reason: ctgram_mean below threshold.\n",
            "*************************************************\n",
            "Removed participant's ID:  3\n",
            "Removal reason: ctungram_mean above threshold.\n",
            "*************************************************\n",
            "Removed participant's ID:  9\n",
            "Removal reason: ctungram_mean above threshold.\n",
            "*************************************************\n",
            "Removed participant's ID:  23\n",
            "Removal reason: ctgram_mean below threshold.\n",
            "*************************************************\n",
            "The number of participants eliminated:  4\n"
          ]
        }
      ],
      "source": [
        "cleaned_anket2 = eliminate_outliers(anket_2,\n",
        "                                    ctgram_threshold = ctgram_threshold,\n",
        "                                    ctungram_threshold = ctungram_threshold)"
      ]
    },
    {
      "cell_type": "code",
      "execution_count": null,
      "id": "07b6c447",
      "metadata": {
        "scrolled": true,
        "colab": {
          "base_uri": "https://localhost:8080/"
        },
        "id": "07b6c447",
        "outputId": "a43a9274-a6f6-4caf-a0e9-85422211f833"
      },
      "outputs": [
        {
          "output_type": "stream",
          "name": "stdout",
          "text": [
            "Removed participant's ID:  6\n",
            "Removal reason: ctungram_mean above threshold.\n",
            "*************************************************\n",
            "Removed participant's ID:  8\n",
            "Removal reason: ctgram_mean below threshold.\n",
            "*************************************************\n",
            "Removed participant's ID:  10\n",
            "Removal reason: ctungram_mean above threshold.\n",
            "*************************************************\n",
            "Removed participant's ID:  12\n",
            "Removal reason: ctgram_mean below threshold.\n",
            "*************************************************\n",
            "Removed participant's ID:  15\n",
            "Removal reason: ctungram_mean above threshold.\n",
            "*************************************************\n",
            "The number of participants eliminated:  5\n"
          ]
        }
      ],
      "source": [
        "cleaned_anket3 = eliminate_outliers(anket_3,\n",
        "                                    ctgram_threshold = ctgram_threshold,\n",
        "                                    ctungram_threshold = ctungram_threshold)"
      ]
    },
    {
      "cell_type": "code",
      "execution_count": null,
      "id": "5556e511",
      "metadata": {
        "colab": {
          "base_uri": "https://localhost:8080/"
        },
        "id": "5556e511",
        "outputId": "39122962-b19e-4609-f3b0-2d1c8d4341b0"
      },
      "outputs": [
        {
          "output_type": "stream",
          "name": "stdout",
          "text": [
            "Removed participant's ID:  5\n",
            "Removal reason: ctungram_mean above threshold.\n",
            "*************************************************\n",
            "Removed participant's ID:  12\n",
            "Removal reason: ctgram_mean below threshold.\n",
            "*************************************************\n",
            "Removed participant's ID:  17\n",
            "Removal reason: ctgram_mean below threshold.\n",
            "*************************************************\n",
            "Removed participant's ID:  18\n",
            "Removal reason: ctungram_mean above threshold.\n",
            "*************************************************\n",
            "The number of participants eliminated:  4\n"
          ]
        }
      ],
      "source": [
        "cleaned_anket4 = eliminate_outliers(anket_4,\n",
        "                                    ctgram_threshold = ctgram_threshold,\n",
        "                                    ctungram_threshold = ctungram_threshold)"
      ]
    }
  ],
  "metadata": {
    "kernelspec": {
      "display_name": "Python 3 (ipykernel)",
      "language": "python",
      "name": "python3"
    },
    "language_info": {
      "codemirror_mode": {
        "name": "ipython",
        "version": 3
      },
      "file_extension": ".py",
      "mimetype": "text/x-python",
      "name": "python",
      "nbconvert_exporter": "python",
      "pygments_lexer": "ipython3",
      "version": "3.10.6"
    },
    "colab": {
      "provenance": []
    }
  },
  "nbformat": 4,
  "nbformat_minor": 5
}